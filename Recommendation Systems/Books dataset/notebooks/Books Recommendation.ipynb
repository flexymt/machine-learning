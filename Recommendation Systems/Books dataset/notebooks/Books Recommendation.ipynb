{
 "cells": [
  {
   "cell_type": "markdown",
   "metadata": {},
   "source": [
    "# Goodread Books Dataset"
   ]
  },
  {
   "cell_type": "markdown",
   "metadata": {},
   "source": [
    "https://www.kaggle.com/datasets/jealousleopard/goodreadsbooks"
   ]
  },
  {
   "cell_type": "markdown",
   "metadata": {},
   "source": [
    "# 1. Importing Packages"
   ]
  },
  {
   "cell_type": "code",
   "execution_count": 8,
   "metadata": {},
   "outputs": [
    {
     "name": "stderr",
     "output_type": "stream",
     "text": [
      "/Library/Frameworks/Python.framework/Versions/3.9/lib/python3.9/site-packages/tqdm/auto.py:22: TqdmWarning: IProgress not found. Please update jupyter and ipywidgets. See https://ipywidgets.readthedocs.io/en/stable/user_install.html\n",
      "  from .autonotebook import tqdm as notebook_tqdm\n",
      "2022-11-24 21:24:49.910405: I tensorflow/core/platform/cpu_feature_guard.cc:193] This TensorFlow binary is optimized with oneAPI Deep Neural Network Library (oneDNN) to use the following CPU instructions in performance-critical operations:  AVX2 FMA\n",
      "To enable them in other operations, rebuild TensorFlow with the appropriate compiler flags.\n"
     ]
    }
   ],
   "source": [
    "import pandas as pd\n",
    "import numpy as np\n",
    "import sklearn as sk\n",
    "import matplotlib.pyplot as plt\n",
    "from matplotlib.pyplot import figure\n",
    "import seaborn as sns\n",
    "from sentence_transformers import SentenceTransformer\n",
    "from sklearn.metrics.pairwise import cosine_similarity\n",
    "\n",
    "\n",
    "# \n",
    "pd.set_option('display.max_colwidth', None)\n"
   ]
  },
  {
   "cell_type": "markdown",
   "metadata": {},
   "source": [
    "# 2. Data Ingestion"
   ]
  },
  {
   "cell_type": "code",
   "execution_count": 2,
   "metadata": {},
   "outputs": [
    {
     "name": "stderr",
     "output_type": "stream",
     "text": [
      "/Library/Frameworks/Python.framework/Versions/3.9/lib/python3.9/site-packages/IPython/core/interactiveshell.py:3433: FutureWarning: The error_bad_lines argument has been deprecated and will be removed in a future version.\n",
      "\n",
      "\n",
      "  exec(code_obj, self.user_global_ns, self.user_ns)\n",
      "Skipping line 1571: ',' expected after '\"'\n",
      "Skipping line 4514: ',' expected after '\"'\n",
      "Skipping line 9967: ',' expected after '\"'\n",
      "Skipping line 10870: ',' expected after '\"'\n",
      "Skipping line 3349: Expected 12 fields in line 3349, saw 13\n",
      "Skipping line 4702: Expected 12 fields in line 4702, saw 13\n",
      "Skipping line 5877: Expected 12 fields in line 5877, saw 13\n",
      "Skipping line 8979: Expected 12 fields in line 8979, saw 13\n"
     ]
    }
   ],
   "source": [
    "# Importing data. Importing with error_bad_lines = False due to corrupted data points. \n",
    "train_dataset = pd.read_csv('books.csv', engine = 'python', sep = ',', error_bad_lines=False)"
   ]
  },
  {
   "cell_type": "markdown",
   "metadata": {},
   "source": [
    "# 3. Initial Data Exploration"
   ]
  },
  {
   "cell_type": "code",
   "execution_count": 4,
   "metadata": {},
   "outputs": [
    {
     "name": "stdout",
     "output_type": "stream",
     "text": [
      "<class 'pandas.core.frame.DataFrame'>\n",
      "RangeIndex: 11119 entries, 0 to 11118\n",
      "Data columns (total 12 columns):\n",
      " #   Column              Non-Null Count  Dtype  \n",
      "---  ------              --------------  -----  \n",
      " 0   bookID              11119 non-null  int64  \n",
      " 1   title               11119 non-null  object \n",
      " 2   authors             11119 non-null  object \n",
      " 3   average_rating      11119 non-null  float64\n",
      " 4   isbn                11119 non-null  object \n",
      " 5   isbn13              11119 non-null  int64  \n",
      " 6   language_code       11119 non-null  object \n",
      " 7     num_pages         11119 non-null  int64  \n",
      " 8   ratings_count       11119 non-null  int64  \n",
      " 9   text_reviews_count  11119 non-null  int64  \n",
      " 10  publication_date    11119 non-null  object \n",
      " 11  publisher           11119 non-null  object \n",
      "dtypes: float64(1), int64(5), object(6)\n",
      "memory usage: 1.0+ MB\n"
     ]
    }
   ],
   "source": [
    "train_dataset.info()"
   ]
  },
  {
   "cell_type": "code",
   "execution_count": 5,
   "metadata": {},
   "outputs": [
    {
     "data": {
      "text/plain": [
       "0        Harry Potter and the Half-Blood Prince (Harry ...\n",
       "1        Harry Potter and the Order of the Phoenix (Har...\n",
       "2        Harry Potter and the Chamber of Secrets (Harry...\n",
       "3        Harry Potter and the Prisoner of Azkaban (Harr...\n",
       "4        Harry Potter Boxed Set  Books 1-5 (Harry Potte...\n",
       "                               ...                        \n",
       "11114     Expelled from Eden: A William T. Vollmann Reader\n",
       "11115                          You Bright and Risen Angels\n",
       "11116                      The Ice-Shirt (Seven Dreams #1)\n",
       "11117                                          Poor People\n",
       "11118                          Las aventuras de Tom Sawyer\n",
       "Name: title, Length: 11119, dtype: object"
      ]
     },
     "execution_count": 5,
     "metadata": {},
     "output_type": "execute_result"
    }
   ],
   "source": [
    "train_dataset.title"
   ]
  },
  {
   "cell_type": "code",
   "execution_count": 6,
   "metadata": {},
   "outputs": [
    {
     "data": {
      "text/html": [
       "<div>\n",
       "<style scoped>\n",
       "    .dataframe tbody tr th:only-of-type {\n",
       "        vertical-align: middle;\n",
       "    }\n",
       "\n",
       "    .dataframe tbody tr th {\n",
       "        vertical-align: top;\n",
       "    }\n",
       "\n",
       "    .dataframe thead th {\n",
       "        text-align: right;\n",
       "    }\n",
       "</style>\n",
       "<table border=\"1\" class=\"dataframe\">\n",
       "  <thead>\n",
       "    <tr style=\"text-align: right;\">\n",
       "      <th></th>\n",
       "      <th>bookID</th>\n",
       "      <th>title</th>\n",
       "      <th>authors</th>\n",
       "      <th>average_rating</th>\n",
       "      <th>isbn</th>\n",
       "      <th>isbn13</th>\n",
       "      <th>language_code</th>\n",
       "      <th>num_pages</th>\n",
       "      <th>ratings_count</th>\n",
       "      <th>text_reviews_count</th>\n",
       "      <th>publication_date</th>\n",
       "      <th>publisher</th>\n",
       "    </tr>\n",
       "  </thead>\n",
       "  <tbody>\n",
       "    <tr>\n",
       "      <th>count</th>\n",
       "      <td>11119.000000</td>\n",
       "      <td>11119</td>\n",
       "      <td>11119</td>\n",
       "      <td>11119.000000</td>\n",
       "      <td>11119</td>\n",
       "      <td>1.111900e+04</td>\n",
       "      <td>11119</td>\n",
       "      <td>11119.000000</td>\n",
       "      <td>1.111900e+04</td>\n",
       "      <td>11119.000000</td>\n",
       "      <td>11119</td>\n",
       "      <td>11119</td>\n",
       "    </tr>\n",
       "    <tr>\n",
       "      <th>unique</th>\n",
       "      <td>NaN</td>\n",
       "      <td>10344</td>\n",
       "      <td>6635</td>\n",
       "      <td>NaN</td>\n",
       "      <td>11119</td>\n",
       "      <td>NaN</td>\n",
       "      <td>27</td>\n",
       "      <td>NaN</td>\n",
       "      <td>NaN</td>\n",
       "      <td>NaN</td>\n",
       "      <td>3675</td>\n",
       "      <td>2289</td>\n",
       "    </tr>\n",
       "    <tr>\n",
       "      <th>top</th>\n",
       "      <td>NaN</td>\n",
       "      <td>The Iliad</td>\n",
       "      <td>P.G. Wodehouse</td>\n",
       "      <td>NaN</td>\n",
       "      <td>0439785960</td>\n",
       "      <td>NaN</td>\n",
       "      <td>eng</td>\n",
       "      <td>NaN</td>\n",
       "      <td>NaN</td>\n",
       "      <td>NaN</td>\n",
       "      <td>10/1/2005</td>\n",
       "      <td>Vintage</td>\n",
       "    </tr>\n",
       "    <tr>\n",
       "      <th>freq</th>\n",
       "      <td>NaN</td>\n",
       "      <td>9</td>\n",
       "      <td>40</td>\n",
       "      <td>NaN</td>\n",
       "      <td>1</td>\n",
       "      <td>NaN</td>\n",
       "      <td>8906</td>\n",
       "      <td>NaN</td>\n",
       "      <td>NaN</td>\n",
       "      <td>NaN</td>\n",
       "      <td>56</td>\n",
       "      <td>318</td>\n",
       "    </tr>\n",
       "    <tr>\n",
       "      <th>mean</th>\n",
       "      <td>21308.966184</td>\n",
       "      <td>NaN</td>\n",
       "      <td>NaN</td>\n",
       "      <td>3.934135</td>\n",
       "      <td>NaN</td>\n",
       "      <td>9.759873e+12</td>\n",
       "      <td>NaN</td>\n",
       "      <td>336.439788</td>\n",
       "      <td>1.794832e+04</td>\n",
       "      <td>542.167371</td>\n",
       "      <td>NaN</td>\n",
       "      <td>NaN</td>\n",
       "    </tr>\n",
       "    <tr>\n",
       "      <th>std</th>\n",
       "      <td>13093.071002</td>\n",
       "      <td>NaN</td>\n",
       "      <td>NaN</td>\n",
       "      <td>0.350384</td>\n",
       "      <td>NaN</td>\n",
       "      <td>4.430554e+11</td>\n",
       "      <td>NaN</td>\n",
       "      <td>241.177969</td>\n",
       "      <td>1.125190e+05</td>\n",
       "      <td>2577.069549</td>\n",
       "      <td>NaN</td>\n",
       "      <td>NaN</td>\n",
       "    </tr>\n",
       "    <tr>\n",
       "      <th>min</th>\n",
       "      <td>1.000000</td>\n",
       "      <td>NaN</td>\n",
       "      <td>NaN</td>\n",
       "      <td>0.000000</td>\n",
       "      <td>NaN</td>\n",
       "      <td>8.987060e+09</td>\n",
       "      <td>NaN</td>\n",
       "      <td>0.000000</td>\n",
       "      <td>0.000000e+00</td>\n",
       "      <td>0.000000</td>\n",
       "      <td>NaN</td>\n",
       "      <td>NaN</td>\n",
       "    </tr>\n",
       "    <tr>\n",
       "      <th>25%</th>\n",
       "      <td>10277.500000</td>\n",
       "      <td>NaN</td>\n",
       "      <td>NaN</td>\n",
       "      <td>3.770000</td>\n",
       "      <td>NaN</td>\n",
       "      <td>9.780345e+12</td>\n",
       "      <td>NaN</td>\n",
       "      <td>192.000000</td>\n",
       "      <td>1.040000e+02</td>\n",
       "      <td>9.000000</td>\n",
       "      <td>NaN</td>\n",
       "      <td>NaN</td>\n",
       "    </tr>\n",
       "    <tr>\n",
       "      <th>50%</th>\n",
       "      <td>20287.000000</td>\n",
       "      <td>NaN</td>\n",
       "      <td>NaN</td>\n",
       "      <td>3.960000</td>\n",
       "      <td>NaN</td>\n",
       "      <td>9.780586e+12</td>\n",
       "      <td>NaN</td>\n",
       "      <td>299.000000</td>\n",
       "      <td>7.450000e+02</td>\n",
       "      <td>47.000000</td>\n",
       "      <td>NaN</td>\n",
       "      <td>NaN</td>\n",
       "    </tr>\n",
       "    <tr>\n",
       "      <th>75%</th>\n",
       "      <td>32103.500000</td>\n",
       "      <td>NaN</td>\n",
       "      <td>NaN</td>\n",
       "      <td>4.135000</td>\n",
       "      <td>NaN</td>\n",
       "      <td>9.780873e+12</td>\n",
       "      <td>NaN</td>\n",
       "      <td>416.000000</td>\n",
       "      <td>5.000500e+03</td>\n",
       "      <td>238.000000</td>\n",
       "      <td>NaN</td>\n",
       "      <td>NaN</td>\n",
       "    </tr>\n",
       "    <tr>\n",
       "      <th>max</th>\n",
       "      <td>45641.000000</td>\n",
       "      <td>NaN</td>\n",
       "      <td>NaN</td>\n",
       "      <td>5.000000</td>\n",
       "      <td>NaN</td>\n",
       "      <td>9.790008e+12</td>\n",
       "      <td>NaN</td>\n",
       "      <td>6576.000000</td>\n",
       "      <td>4.597666e+06</td>\n",
       "      <td>94265.000000</td>\n",
       "      <td>NaN</td>\n",
       "      <td>NaN</td>\n",
       "    </tr>\n",
       "  </tbody>\n",
       "</table>\n",
       "</div>"
      ],
      "text/plain": [
       "              bookID      title         authors  average_rating        isbn  \\\n",
       "count   11119.000000      11119           11119    11119.000000       11119   \n",
       "unique           NaN      10344            6635             NaN       11119   \n",
       "top              NaN  The Iliad  P.G. Wodehouse             NaN  0439785960   \n",
       "freq             NaN          9              40             NaN           1   \n",
       "mean    21308.966184        NaN             NaN        3.934135         NaN   \n",
       "std     13093.071002        NaN             NaN        0.350384         NaN   \n",
       "min         1.000000        NaN             NaN        0.000000         NaN   \n",
       "25%     10277.500000        NaN             NaN        3.770000         NaN   \n",
       "50%     20287.000000        NaN             NaN        3.960000         NaN   \n",
       "75%     32103.500000        NaN             NaN        4.135000         NaN   \n",
       "max     45641.000000        NaN             NaN        5.000000         NaN   \n",
       "\n",
       "              isbn13 language_code     num_pages  ratings_count  \\\n",
       "count   1.111900e+04         11119  11119.000000   1.111900e+04   \n",
       "unique           NaN            27           NaN            NaN   \n",
       "top              NaN           eng           NaN            NaN   \n",
       "freq             NaN          8906           NaN            NaN   \n",
       "mean    9.759873e+12           NaN    336.439788   1.794832e+04   \n",
       "std     4.430554e+11           NaN    241.177969   1.125190e+05   \n",
       "min     8.987060e+09           NaN      0.000000   0.000000e+00   \n",
       "25%     9.780345e+12           NaN    192.000000   1.040000e+02   \n",
       "50%     9.780586e+12           NaN    299.000000   7.450000e+02   \n",
       "75%     9.780873e+12           NaN    416.000000   5.000500e+03   \n",
       "max     9.790008e+12           NaN   6576.000000   4.597666e+06   \n",
       "\n",
       "        text_reviews_count publication_date publisher  \n",
       "count         11119.000000            11119     11119  \n",
       "unique                 NaN             3675      2289  \n",
       "top                    NaN        10/1/2005   Vintage  \n",
       "freq                   NaN               56       318  \n",
       "mean            542.167371              NaN       NaN  \n",
       "std            2577.069549              NaN       NaN  \n",
       "min               0.000000              NaN       NaN  \n",
       "25%               9.000000              NaN       NaN  \n",
       "50%              47.000000              NaN       NaN  \n",
       "75%             238.000000              NaN       NaN  \n",
       "max           94265.000000              NaN       NaN  "
      ]
     },
     "execution_count": 6,
     "metadata": {},
     "output_type": "execute_result"
    }
   ],
   "source": [
    "train_dataset.describe(include = 'all')"
   ]
  },
  {
   "cell_type": "code",
   "execution_count": 7,
   "metadata": {},
   "outputs": [
    {
     "data": {
      "text/plain": [
       "array(['Scholastic Inc.', 'Scholastic', 'Nimble Books', ..., 'Suma',\n",
       "       'Panamericana Editorial', 'Editorial Presença'], dtype=object)"
      ]
     },
     "execution_count": 7,
     "metadata": {},
     "output_type": "execute_result"
    }
   ],
   "source": [
    "train_dataset.publisher.unique()"
   ]
  },
  {
   "cell_type": "markdown",
   "metadata": {},
   "source": [
    "## 3.1 Missing Values"
   ]
  },
  {
   "cell_type": "code",
   "execution_count": 8,
   "metadata": {},
   "outputs": [
    {
     "data": {
      "text/plain": [
       "0"
      ]
     },
     "execution_count": 8,
     "metadata": {},
     "output_type": "execute_result"
    }
   ],
   "source": [
    "# Checking missing values \n",
    "train_dataset.isnull().sum().sum()"
   ]
  },
  {
   "cell_type": "markdown",
   "metadata": {},
   "source": [
    "## 3.2 Duplicates"
   ]
  },
  {
   "cell_type": "code",
   "execution_count": 9,
   "metadata": {},
   "outputs": [
    {
     "data": {
      "text/plain": [
       "0"
      ]
     },
     "execution_count": 9,
     "metadata": {},
     "output_type": "execute_result"
    }
   ],
   "source": [
    "# Checking for duplicates\n",
    "train_dataset.duplicated().sum()"
   ]
  },
  {
   "cell_type": "markdown",
   "metadata": {},
   "source": [
    "# 4. Exploratory Data Analysis"
   ]
  },
  {
   "cell_type": "code",
   "execution_count": 10,
   "metadata": {},
   "outputs": [
    {
     "data": {
      "text/plain": [
       "authors                                      \n",
       "Stephen King                                     40\n",
       "P.G. Wodehouse                                   40\n",
       "Rumiko Takahashi                                 39\n",
       "Orson Scott Card                                 35\n",
       "Agatha Christie                                  33\n",
       "                                                 ..\n",
       "Joanne Harris/Fran Warde                          1\n",
       "Carolyn Keene/Russell H. Tandy/Mildred Benson     1\n",
       "Carolyn Keene/Russell H. Tandy/Sara Paretsky      1\n",
       "Joanna Weaver                                     1\n",
       "Éric-Emmanuel Schmitt                             1\n",
       "Length: 6635, dtype: int64"
      ]
     },
     "execution_count": 10,
     "metadata": {},
     "output_type": "execute_result"
    }
   ],
   "source": [
    "train_dataset[['authors']].value_counts()"
   ]
  },
  {
   "cell_type": "code",
   "execution_count": 11,
   "metadata": {},
   "outputs": [
    {
     "data": {
      "text/html": [
       "<div>\n",
       "<style scoped>\n",
       "    .dataframe tbody tr th:only-of-type {\n",
       "        vertical-align: middle;\n",
       "    }\n",
       "\n",
       "    .dataframe tbody tr th {\n",
       "        vertical-align: top;\n",
       "    }\n",
       "\n",
       "    .dataframe thead th {\n",
       "        text-align: right;\n",
       "    }\n",
       "</style>\n",
       "<table border=\"1\" class=\"dataframe\">\n",
       "  <thead>\n",
       "    <tr style=\"text-align: right;\">\n",
       "      <th></th>\n",
       "      <th>bookID</th>\n",
       "      <th>isbn</th>\n",
       "      <th>isbn13</th>\n",
       "    </tr>\n",
       "  </thead>\n",
       "  <tbody>\n",
       "    <tr>\n",
       "      <th>0</th>\n",
       "      <td>1</td>\n",
       "      <td>0439785960</td>\n",
       "      <td>9780439785969</td>\n",
       "    </tr>\n",
       "    <tr>\n",
       "      <th>1</th>\n",
       "      <td>2</td>\n",
       "      <td>0439358078</td>\n",
       "      <td>9780439358071</td>\n",
       "    </tr>\n",
       "    <tr>\n",
       "      <th>2</th>\n",
       "      <td>4</td>\n",
       "      <td>0439554896</td>\n",
       "      <td>9780439554893</td>\n",
       "    </tr>\n",
       "    <tr>\n",
       "      <th>3</th>\n",
       "      <td>5</td>\n",
       "      <td>043965548X</td>\n",
       "      <td>9780439655484</td>\n",
       "    </tr>\n",
       "    <tr>\n",
       "      <th>4</th>\n",
       "      <td>8</td>\n",
       "      <td>0439682584</td>\n",
       "      <td>9780439682589</td>\n",
       "    </tr>\n",
       "    <tr>\n",
       "      <th>...</th>\n",
       "      <td>...</td>\n",
       "      <td>...</td>\n",
       "      <td>...</td>\n",
       "    </tr>\n",
       "    <tr>\n",
       "      <th>11114</th>\n",
       "      <td>45631</td>\n",
       "      <td>1560254416</td>\n",
       "      <td>9781560254416</td>\n",
       "    </tr>\n",
       "    <tr>\n",
       "      <th>11115</th>\n",
       "      <td>45633</td>\n",
       "      <td>0140110879</td>\n",
       "      <td>9780140110876</td>\n",
       "    </tr>\n",
       "    <tr>\n",
       "      <th>11116</th>\n",
       "      <td>45634</td>\n",
       "      <td>0140131965</td>\n",
       "      <td>9780140131963</td>\n",
       "    </tr>\n",
       "    <tr>\n",
       "      <th>11117</th>\n",
       "      <td>45639</td>\n",
       "      <td>0060878827</td>\n",
       "      <td>9780060878825</td>\n",
       "    </tr>\n",
       "    <tr>\n",
       "      <th>11118</th>\n",
       "      <td>45641</td>\n",
       "      <td>8497646983</td>\n",
       "      <td>9788497646987</td>\n",
       "    </tr>\n",
       "  </tbody>\n",
       "</table>\n",
       "<p>11119 rows × 3 columns</p>\n",
       "</div>"
      ],
      "text/plain": [
       "       bookID        isbn         isbn13\n",
       "0           1  0439785960  9780439785969\n",
       "1           2  0439358078  9780439358071\n",
       "2           4  0439554896  9780439554893\n",
       "3           5  043965548X  9780439655484\n",
       "4           8  0439682584  9780439682589\n",
       "...       ...         ...            ...\n",
       "11114   45631  1560254416  9781560254416\n",
       "11115   45633  0140110879  9780140110876\n",
       "11116   45634  0140131965  9780140131963\n",
       "11117   45639  0060878827  9780060878825\n",
       "11118   45641  8497646983  9788497646987\n",
       "\n",
       "[11119 rows x 3 columns]"
      ]
     },
     "execution_count": 11,
     "metadata": {},
     "output_type": "execute_result"
    }
   ],
   "source": [
    "# The ISBN and BookID are unique identifers. Will be dropped in the feature engineering section. \n",
    "train_dataset[['bookID','isbn','isbn13']]"
   ]
  },
  {
   "cell_type": "markdown",
   "metadata": {},
   "source": [
    "## 4.1 Features EDA"
   ]
  },
  {
   "cell_type": "code",
   "execution_count": 12,
   "metadata": {},
   "outputs": [],
   "source": [
    "# Extracting unique books per author. \n",
    "all_authors_exploded = list()\n",
    "all_authors = train_dataset.authors\n",
    "for authors in all_authors:\n",
    "    if '/' in authors:\n",
    "        authors_in_row = authors.split('/')\n",
    "        all_authors_exploded.extend(authors_in_row)\n",
    "    else:\n",
    "        all_authors_exploded.extend([authors])\n",
    "        \n",
    "unique_authors = np.unique(all_authors_exploded, return_counts = True)[0]\n",
    "counter = np.unique(all_authors_exploded, return_counts = True)[1]\n",
    "unique_authors = pd.DataFrame(data = [unique_authors,counter]).T\n",
    "unique_authors.columns = ['author_name','total_books']\n",
    "unique_authors = unique_authors.sort_values(by = 'total_books', ascending = False)\n",
    "unique_authors_top_10 = unique_authors.head(10).copy()"
   ]
  },
  {
   "cell_type": "code",
   "execution_count": 13,
   "metadata": {},
   "outputs": [
    {
     "data": {
      "text/plain": [
       "<AxesSubplot: xlabel='total_books', ylabel='author_name'>"
      ]
     },
     "execution_count": 13,
     "metadata": {},
     "output_type": "execute_result"
    },
    {
     "data": {
      "image/png": "[encoded data removed]",
      "text/plain": [
       "<Figure size 640x480 with 1 Axes>"
      ]
     },
     "metadata": {},
     "output_type": "display_data"
    }
   ],
   "source": [
    "# Plotting top 10. \n",
    "sns.barplot(data = unique_authors_top_10, y = 'author_name', x = 'total_books', orient = 'h')"
   ]
  },
  {
   "cell_type": "markdown",
   "metadata": {},
   "source": [
    "## Average Rating"
   ]
  },
  {
   "cell_type": "code",
   "execution_count": 14,
   "metadata": {},
   "outputs": [
    {
     "data": {
      "text/plain": [
       "<AxesSubplot: xlabel='average_rating', ylabel='Count'>"
      ]
     },
     "execution_count": 14,
     "metadata": {},
     "output_type": "execute_result"
    },
    {
     "data": {
      "image/png": "[encoded data removed]",
      "text/plain": [
       "<Figure size 640x480 with 1 Axes>"
      ]
     },
     "metadata": {},
     "output_type": "display_data"
    }
   ],
   "source": [
    "sns.histplot(train_dataset.average_rating)"
   ]
  },
  {
   "cell_type": "markdown",
   "metadata": {},
   "source": [
    "## Language Code"
   ]
  },
  {
   "cell_type": "code",
   "execution_count": 15,
   "metadata": {},
   "outputs": [
    {
     "data": {
      "text/plain": [
       "<AxesSubplot: xlabel='bookID', ylabel='language_code'>"
      ]
     },
     "execution_count": 15,
     "metadata": {},
     "output_type": "execute_result"
    },
    {
     "data": {
      "image/png": "[encoded data removed]",
      "text/plain": [
       "<Figure size 640x480 with 1 Axes>"
      ]
     },
     "metadata": {},
     "output_type": "display_data"
    }
   ],
   "source": [
    "language_code = pd.DataFrame(train_dataset.groupby('language_code')['bookID'].count().sort_values(ascending = False).reset_index())\n",
    "sns.barplot(data = language_code.head(10), y = 'language_code', x = 'bookID', orient = 'h')\n"
   ]
  },
  {
   "cell_type": "markdown",
   "metadata": {},
   "source": [
    "## Num Pages"
   ]
  },
  {
   "cell_type": "code",
   "execution_count": 16,
   "metadata": {},
   "outputs": [
    {
     "data": {
      "text/plain": [
       "<AxesSubplot: xlabel='  num_pages', ylabel='Count'>"
      ]
     },
     "execution_count": 16,
     "metadata": {},
     "output_type": "execute_result"
    },
    {
     "data": {
      "image/png": "[encoded data removed]",
      "text/plain": [
       "<Figure size 640x480 with 1 Axes>"
      ]
     },
     "metadata": {},
     "output_type": "display_data"
    }
   ],
   "source": [
    "num_pages = train_dataset['  num_pages']\n",
    "sns.histplot(num_pages)"
   ]
  },
  {
   "cell_type": "markdown",
   "metadata": {},
   "source": [
    "## Publisher"
   ]
  },
  {
   "cell_type": "code",
   "execution_count": 17,
   "metadata": {},
   "outputs": [],
   "source": [
    "publisher_data = pd.DataFrame(pd.DataFrame(train_dataset.publisher).value_counts().head(30)).reset_index()\n",
    "publisher_data.columns = ['publisher','publisher_count']"
   ]
  },
  {
   "cell_type": "code",
   "execution_count": 18,
   "metadata": {},
   "outputs": [
    {
     "data": {
      "text/plain": [
       "<AxesSubplot: xlabel='publisher_count', ylabel='publisher'>"
      ]
     },
     "execution_count": 18,
     "metadata": {},
     "output_type": "execute_result"
    },
    {
     "data": {
      "image/png": "[encoded data removed]",
      "text/plain": [
       "<Figure size 640x480 with 1 Axes>"
      ]
     },
     "metadata": {},
     "output_type": "display_data"
    }
   ],
   "source": [
    "sns.barplot(data = publisher_data, y = 'publisher', x = 'publisher_count')"
   ]
  },
  {
   "cell_type": "code",
   "execution_count": 162,
   "metadata": {},
   "outputs": [
    {
     "data": {
      "text/plain": [
       "<seaborn.axisgrid.JointGrid at 0x7f82f88534f0>"
      ]
     },
     "execution_count": 162,
     "metadata": {},
     "output_type": "execute_result"
    },
    {
     "data": {
      "image/png": "[encoded data removed]",
      "text/plain": [
       "<Figure size 600x600 with 3 Axes>"
      ]
     },
     "metadata": {},
     "output_type": "display_data"
    }
   ],
   "source": [
    "# Plotting Average Rating and Num_pages to see if there is a correlation between these features.\n",
    "sns.jointplot(data = train_dataset, x = 'average_rating', y = '  num_pages', kind = 'scatter')"
   ]
  },
  {
   "cell_type": "code",
   "execution_count": null,
   "metadata": {},
   "outputs": [],
   "source": [
    "sns.jointplot(data = train_dataset, x = 'average_rating', y = '  num_pages', kind = 'scatter')"
   ]
  },
  {
   "cell_type": "markdown",
   "metadata": {},
   "source": [
    "# 5. Feature Engineering"
   ]
  },
  {
   "cell_type": "code",
   "execution_count": 71,
   "metadata": {},
   "outputs": [],
   "source": [
    "# Merging english language codes\n",
    "train_dataset.language_code = np.where(train_dataset.language_code.isin(['en-US','en-GB','en-CA']),'eng',train_dataset.language_code)\n",
    "\n",
    "\n"
   ]
  },
  {
   "cell_type": "code",
   "execution_count": null,
   "metadata": {},
   "outputs": [],
   "source": []
  },
  {
   "cell_type": "code",
   "execution_count": null,
   "metadata": {},
   "outputs": [],
   "source": []
  },
  {
   "cell_type": "code",
   "execution_count": null,
   "metadata": {},
   "outputs": [],
   "source": []
  },
  {
   "cell_type": "markdown",
   "metadata": {},
   "source": [
    "# 6. Model Creation"
   ]
  },
  {
   "cell_type": "code",
   "execution_count": 19,
   "metadata": {},
   "outputs": [],
   "source": [
    "# Utilizing BERT\n",
    "model = SentenceTransformer('distilbert-base-nli-mean-tokens')"
   ]
  },
  {
   "cell_type": "code",
   "execution_count": 117,
   "metadata": {},
   "outputs": [],
   "source": [
    "# Tokenizing on a sentence level the various relevant text columns\n",
    "corpus_book_title = train_dataset.title.tolist()\n",
    "corpus_authors = train_dataset.authors.tolist()\n",
    "corpus_language = train_dataset.language_code.tolist()"
   ]
  },
  {
   "cell_type": "code",
   "execution_count": 118,
   "metadata": {},
   "outputs": [
    {
     "name": "stderr",
     "output_type": "stream",
     "text": [
      "Batches: 100%|████████████████████████████████| 348/348 [00:55<00:00,  6.27it/s]\n"
     ]
    }
   ],
   "source": [
    "# Encoding Book Titles \n",
    "encoded_corpus_book_titles = model.encode(corpus_book_title, show_progress_bar=True)\n"
   ]
  },
  {
   "cell_type": "code",
   "execution_count": 119,
   "metadata": {},
   "outputs": [
    {
     "name": "stderr",
     "output_type": "stream",
     "text": [
      "Batches: 100%|████████████████████████████████| 348/348 [00:42<00:00,  8.21it/s]\n"
     ]
    }
   ],
   "source": [
    "# Encoding Book Authors\n",
    "encoded_corpus_authors = model.encode(corpus_authors, show_progress_bar=True)"
   ]
  },
  {
   "cell_type": "code",
   "execution_count": 120,
   "metadata": {},
   "outputs": [],
   "source": [
    "embedded_df = pd.DataFrame({'book_titles': corpus, 'authors' : corpus_authors ,'language_code' : corpus_language})"
   ]
  },
  {
   "cell_type": "code",
   "execution_count": 121,
   "metadata": {},
   "outputs": [],
   "source": [
    "def return_cosine_similarity(title : str, encoded_corpus: list):\n",
    "    # Function that returns the cosine similarity between a word and a corpus\n",
    "    index = embedded_df[embedded_df.book_titles == title].index[0]  \n",
    "    vectorized_current_book_title = [encoded_corpus[index]]\n",
    "    cosine_similarity_array = [(cosine_similarity(vectorized_current_book_title,[x]))[0][0] for x in encoded_corpus]\n",
    "    return cosine_similarity_array\n",
    "\n",
    "\n",
    "def return_language_code_of_title(embedded_df, title : str):\n",
    "    # Returns the language code of a given book title.\n",
    "    index = embedded_df[embedded_df.book_titles == title].index[0]\n",
    "    language_code = embedded_df.language_code[index] \n",
    "    return language_code\n",
    "\n",
    "\n",
    "def alter_df(embedded_df :, title, encoded_corpus_movie_titles, encoded_corpus_book_titles ):\n",
    "    # Returns modified dataframe with cosine similarities. \n",
    "    embedded_df['cosine_similarity_book_title'] = return_cosine_similarity(title,encoded_corpus_movie_titles)\n",
    "    embedded_df['cosine_similarity_authors'] = return_cosine_similarity(title,encoded_corpus_movie_authors)\n",
    "\n",
    "    embedded_df['cosine_sum'] = embedded_df.cosine_similarity_book_title + embedded_df.cosine_similarity_authors\n",
    "    \n",
    "    title_language_code = return_language_code_of_title(embedded_df,title)\n",
    "\n",
    "    embedded_df = embedded_df[embedded_df.book_titles != title]\n",
    "    embedded_df = embedded_df[embedded_df.language_code == title_language_code]\n",
    "    embedded_df = embedded_df.sort_values(by = 'cosine_sum', ascending = False)\n",
    "    \n",
    "    return embedded_df \n",
    "\n",
    "\n",
    "\n"
   ]
  },
  {
   "cell_type": "code",
   "execution_count": 150,
   "metadata": {},
   "outputs": [],
   "source": [
    "embedded_df = pd.DataFrame({'book_titles': corpus, 'authors' : corpus_authors ,'language_code' : corpus_language})\n",
    "embedded_df = alter_df(embedded_df,'The Ground Beneath Her Feet',encoded_corpus_book_titles, encoded_corpus_authors )\n",
    "\n",
    "\n"
   ]
  },
  {
   "cell_type": "code",
   "execution_count": 151,
   "metadata": {},
   "outputs": [
    {
     "data": {
      "text/html": [
       "<div>\n",
       "<style scoped>\n",
       "    .dataframe tbody tr th:only-of-type {\n",
       "        vertical-align: middle;\n",
       "    }\n",
       "\n",
       "    .dataframe tbody tr th {\n",
       "        vertical-align: top;\n",
       "    }\n",
       "\n",
       "    .dataframe thead th {\n",
       "        text-align: right;\n",
       "    }\n",
       "</style>\n",
       "<table border=\"1\" class=\"dataframe\">\n",
       "  <thead>\n",
       "    <tr style=\"text-align: right;\">\n",
       "      <th></th>\n",
       "      <th>book_titles</th>\n",
       "      <th>authors</th>\n",
       "      <th>language_code</th>\n",
       "      <th>cosine_similarity_book_title</th>\n",
       "      <th>cosine_similarity_authors</th>\n",
       "      <th>cosine_sum</th>\n",
       "    </tr>\n",
       "  </thead>\n",
       "  <tbody>\n",
       "    <tr>\n",
       "      <th>2687</th>\n",
       "      <td>Grimus</td>\n",
       "      <td>Salman Rushdie</td>\n",
       "      <td>eng</td>\n",
       "      <td>0.607709</td>\n",
       "      <td>1.000000</td>\n",
       "      <td>1.607709</td>\n",
       "    </tr>\n",
       "    <tr>\n",
       "      <th>1385</th>\n",
       "      <td>Fury</td>\n",
       "      <td>Salman Rushdie</td>\n",
       "      <td>eng</td>\n",
       "      <td>0.519112</td>\n",
       "      <td>1.000000</td>\n",
       "      <td>1.519112</td>\n",
       "    </tr>\n",
       "    <tr>\n",
       "      <th>2684</th>\n",
       "      <td>The Moor's Last Sigh</td>\n",
       "      <td>Salman Rushdie</td>\n",
       "      <td>eng</td>\n",
       "      <td>0.439256</td>\n",
       "      <td>1.000000</td>\n",
       "      <td>1.439255</td>\n",
       "    </tr>\n",
       "    <tr>\n",
       "      <th>3505</th>\n",
       "      <td>The Satanic Verses</td>\n",
       "      <td>Salman Rushdie</td>\n",
       "      <td>eng</td>\n",
       "      <td>0.423637</td>\n",
       "      <td>1.000000</td>\n",
       "      <td>1.423636</td>\n",
       "    </tr>\n",
       "    <tr>\n",
       "      <th>1383</th>\n",
       "      <td>Midnight's Children</td>\n",
       "      <td>Salman Rushdie</td>\n",
       "      <td>eng</td>\n",
       "      <td>0.406816</td>\n",
       "      <td>1.000000</td>\n",
       "      <td>1.406816</td>\n",
       "    </tr>\n",
       "    <tr>\n",
       "      <th>...</th>\n",
       "      <td>...</td>\n",
       "      <td>...</td>\n",
       "      <td>...</td>\n",
       "      <td>...</td>\n",
       "      <td>...</td>\n",
       "      <td>...</td>\n",
       "    </tr>\n",
       "    <tr>\n",
       "      <th>9033</th>\n",
       "      <td>How to Talk to Anyone: 92 Little Tricks for Big Success in Relationships</td>\n",
       "      <td>Leil Lowndes</td>\n",
       "      <td>eng</td>\n",
       "      <td>-0.083643</td>\n",
       "      <td>0.393739</td>\n",
       "      <td>0.310097</td>\n",
       "    </tr>\n",
       "    <tr>\n",
       "      <th>9838</th>\n",
       "      <td>Boeing Versus Airbus: The Inside Story of the Greatest International Competition in Business</td>\n",
       "      <td>John Newhouse</td>\n",
       "      <td>eng</td>\n",
       "      <td>-0.114896</td>\n",
       "      <td>0.412478</td>\n",
       "      <td>0.297581</td>\n",
       "    </tr>\n",
       "    <tr>\n",
       "      <th>1790</th>\n",
       "      <td>The Best of America's Test Kitchen 2007: The Year's Best Recipes  Equipment Reviews  and Tastings</td>\n",
       "      <td>America's Test Kitchen</td>\n",
       "      <td>eng</td>\n",
       "      <td>-0.089036</td>\n",
       "      <td>0.365305</td>\n",
       "      <td>0.276269</td>\n",
       "    </tr>\n",
       "    <tr>\n",
       "      <th>6382</th>\n",
       "      <td>New York City's Best Dive Bars: Drinking and Diving in the Five Boroughs</td>\n",
       "      <td>Wendy  Mitchell/June Kim</td>\n",
       "      <td>eng</td>\n",
       "      <td>-0.086916</td>\n",
       "      <td>0.348968</td>\n",
       "      <td>0.262052</td>\n",
       "    </tr>\n",
       "    <tr>\n",
       "      <th>701</th>\n",
       "      <td>23 Days in July: Inside the Tour de France and Lance Armstrong's Record-Breaking Victory</td>\n",
       "      <td>John Wilcockson/Graham   Watson</td>\n",
       "      <td>eng</td>\n",
       "      <td>-0.172001</td>\n",
       "      <td>0.429965</td>\n",
       "      <td>0.257964</td>\n",
       "    </tr>\n",
       "  </tbody>\n",
       "</table>\n",
       "<p>10532 rows × 6 columns</p>\n",
       "</div>"
      ],
      "text/plain": [
       "                                                                                            book_titles  \\\n",
       "2687                                                                                             Grimus   \n",
       "1385                                                                                               Fury   \n",
       "2684                                                                               The Moor's Last Sigh   \n",
       "3505                                                                                 The Satanic Verses   \n",
       "1383                                                                                Midnight's Children   \n",
       "...                                                                                                 ...   \n",
       "9033                           How to Talk to Anyone: 92 Little Tricks for Big Success in Relationships   \n",
       "9838       Boeing Versus Airbus: The Inside Story of the Greatest International Competition in Business   \n",
       "1790  The Best of America's Test Kitchen 2007: The Year's Best Recipes  Equipment Reviews  and Tastings   \n",
       "6382                           New York City's Best Dive Bars: Drinking and Diving in the Five Boroughs   \n",
       "701            23 Days in July: Inside the Tour de France and Lance Armstrong's Record-Breaking Victory   \n",
       "\n",
       "                              authors language_code  \\\n",
       "2687                   Salman Rushdie           eng   \n",
       "1385                   Salman Rushdie           eng   \n",
       "2684                   Salman Rushdie           eng   \n",
       "3505                   Salman Rushdie           eng   \n",
       "1383                   Salman Rushdie           eng   \n",
       "...                               ...           ...   \n",
       "9033                     Leil Lowndes           eng   \n",
       "9838                    John Newhouse           eng   \n",
       "1790           America's Test Kitchen           eng   \n",
       "6382         Wendy  Mitchell/June Kim           eng   \n",
       "701   John Wilcockson/Graham   Watson           eng   \n",
       "\n",
       "      cosine_similarity_book_title  cosine_similarity_authors  cosine_sum  \n",
       "2687                      0.607709                   1.000000    1.607709  \n",
       "1385                      0.519112                   1.000000    1.519112  \n",
       "2684                      0.439256                   1.000000    1.439255  \n",
       "3505                      0.423637                   1.000000    1.423636  \n",
       "1383                      0.406816                   1.000000    1.406816  \n",
       "...                            ...                        ...         ...  \n",
       "9033                     -0.083643                   0.393739    0.310097  \n",
       "9838                     -0.114896                   0.412478    0.297581  \n",
       "1790                     -0.089036                   0.365305    0.276269  \n",
       "6382                     -0.086916                   0.348968    0.262052  \n",
       "701                      -0.172001                   0.429965    0.257964  \n",
       "\n",
       "[10532 rows x 6 columns]"
      ]
     },
     "execution_count": 151,
     "metadata": {},
     "output_type": "execute_result"
    }
   ],
   "source": [
    "embedded_df"
   ]
  },
  {
   "cell_type": "code",
   "execution_count": 169,
   "metadata": {},
   "outputs": [
    {
     "data": {
      "text/html": [
       "<div>\n",
       "<style scoped>\n",
       "    .dataframe tbody tr th:only-of-type {\n",
       "        vertical-align: middle;\n",
       "    }\n",
       "\n",
       "    .dataframe tbody tr th {\n",
       "        vertical-align: top;\n",
       "    }\n",
       "\n",
       "    .dataframe thead th {\n",
       "        text-align: right;\n",
       "    }\n",
       "</style>\n",
       "<table border=\"1\" class=\"dataframe\">\n",
       "  <thead>\n",
       "    <tr style=\"text-align: right;\">\n",
       "      <th></th>\n",
       "      <th>bookID</th>\n",
       "      <th>title</th>\n",
       "      <th>authors</th>\n",
       "      <th>average_rating</th>\n",
       "      <th>isbn</th>\n",
       "      <th>isbn13</th>\n",
       "      <th>language_code</th>\n",
       "      <th>num_pages</th>\n",
       "      <th>ratings_count</th>\n",
       "      <th>text_reviews_count</th>\n",
       "      <th>publication_date</th>\n",
       "      <th>publisher</th>\n",
       "    </tr>\n",
       "  </thead>\n",
       "  <tbody>\n",
       "    <tr>\n",
       "      <th>0</th>\n",
       "      <td>1</td>\n",
       "      <td>Harry Potter and the Half-Blood Prince (Harry Potter  #6)</td>\n",
       "      <td>J.K. Rowling/Mary GrandPré</td>\n",
       "      <td>4.57</td>\n",
       "      <td>0439785960</td>\n",
       "      <td>9780439785969</td>\n",
       "      <td>eng</td>\n",
       "      <td>652</td>\n",
       "      <td>2095690</td>\n",
       "      <td>27591</td>\n",
       "      <td>9/16/2006</td>\n",
       "      <td>Scholastic Inc.</td>\n",
       "    </tr>\n",
       "    <tr>\n",
       "      <th>1</th>\n",
       "      <td>2</td>\n",
       "      <td>Harry Potter and the Order of the Phoenix (Harry Potter  #5)</td>\n",
       "      <td>J.K. Rowling/Mary GrandPré</td>\n",
       "      <td>4.49</td>\n",
       "      <td>0439358078</td>\n",
       "      <td>9780439358071</td>\n",
       "      <td>eng</td>\n",
       "      <td>870</td>\n",
       "      <td>2153167</td>\n",
       "      <td>29221</td>\n",
       "      <td>9/1/2004</td>\n",
       "      <td>Scholastic Inc.</td>\n",
       "    </tr>\n",
       "    <tr>\n",
       "      <th>2</th>\n",
       "      <td>4</td>\n",
       "      <td>Harry Potter and the Chamber of Secrets (Harry Potter  #2)</td>\n",
       "      <td>J.K. Rowling</td>\n",
       "      <td>4.42</td>\n",
       "      <td>0439554896</td>\n",
       "      <td>9780439554893</td>\n",
       "      <td>eng</td>\n",
       "      <td>352</td>\n",
       "      <td>6333</td>\n",
       "      <td>244</td>\n",
       "      <td>11/1/2003</td>\n",
       "      <td>Scholastic</td>\n",
       "    </tr>\n",
       "    <tr>\n",
       "      <th>3</th>\n",
       "      <td>5</td>\n",
       "      <td>Harry Potter and the Prisoner of Azkaban (Harry Potter  #3)</td>\n",
       "      <td>J.K. Rowling/Mary GrandPré</td>\n",
       "      <td>4.56</td>\n",
       "      <td>043965548X</td>\n",
       "      <td>9780439655484</td>\n",
       "      <td>eng</td>\n",
       "      <td>435</td>\n",
       "      <td>2339585</td>\n",
       "      <td>36325</td>\n",
       "      <td>5/1/2004</td>\n",
       "      <td>Scholastic Inc.</td>\n",
       "    </tr>\n",
       "    <tr>\n",
       "      <th>4</th>\n",
       "      <td>8</td>\n",
       "      <td>Harry Potter Boxed Set  Books 1-5 (Harry Potter  #1-5)</td>\n",
       "      <td>J.K. Rowling/Mary GrandPré</td>\n",
       "      <td>4.78</td>\n",
       "      <td>0439682584</td>\n",
       "      <td>9780439682589</td>\n",
       "      <td>eng</td>\n",
       "      <td>2690</td>\n",
       "      <td>41428</td>\n",
       "      <td>164</td>\n",
       "      <td>9/13/2004</td>\n",
       "      <td>Scholastic</td>\n",
       "    </tr>\n",
       "    <tr>\n",
       "      <th>5</th>\n",
       "      <td>9</td>\n",
       "      <td>Unauthorized Harry Potter Book Seven News: \"Half-Blood Prince\" Analysis and Speculation</td>\n",
       "      <td>W. Frederick Zimmerman</td>\n",
       "      <td>3.74</td>\n",
       "      <td>0976540606</td>\n",
       "      <td>9780976540601</td>\n",
       "      <td>eng</td>\n",
       "      <td>152</td>\n",
       "      <td>19</td>\n",
       "      <td>1</td>\n",
       "      <td>4/26/2005</td>\n",
       "      <td>Nimble Books</td>\n",
       "    </tr>\n",
       "    <tr>\n",
       "      <th>6</th>\n",
       "      <td>10</td>\n",
       "      <td>Harry Potter Collection (Harry Potter  #1-6)</td>\n",
       "      <td>J.K. Rowling</td>\n",
       "      <td>4.73</td>\n",
       "      <td>0439827604</td>\n",
       "      <td>9780439827607</td>\n",
       "      <td>eng</td>\n",
       "      <td>3342</td>\n",
       "      <td>28242</td>\n",
       "      <td>808</td>\n",
       "      <td>9/12/2005</td>\n",
       "      <td>Scholastic</td>\n",
       "    </tr>\n",
       "    <tr>\n",
       "      <th>7</th>\n",
       "      <td>12</td>\n",
       "      <td>The Ultimate Hitchhiker's Guide: Five Complete Novels and One Story (Hitchhiker's Guide to the Galaxy  #1-5)</td>\n",
       "      <td>Douglas Adams</td>\n",
       "      <td>4.38</td>\n",
       "      <td>0517226952</td>\n",
       "      <td>9780517226957</td>\n",
       "      <td>eng</td>\n",
       "      <td>815</td>\n",
       "      <td>3628</td>\n",
       "      <td>254</td>\n",
       "      <td>11/1/2005</td>\n",
       "      <td>Gramercy Books</td>\n",
       "    </tr>\n",
       "    <tr>\n",
       "      <th>8</th>\n",
       "      <td>13</td>\n",
       "      <td>The Ultimate Hitchhiker's Guide to the Galaxy (Hitchhiker's Guide to the Galaxy  #1-5)</td>\n",
       "      <td>Douglas Adams</td>\n",
       "      <td>4.38</td>\n",
       "      <td>0345453743</td>\n",
       "      <td>9780345453747</td>\n",
       "      <td>eng</td>\n",
       "      <td>815</td>\n",
       "      <td>249558</td>\n",
       "      <td>4080</td>\n",
       "      <td>4/30/2002</td>\n",
       "      <td>Del Rey Books</td>\n",
       "    </tr>\n",
       "    <tr>\n",
       "      <th>9</th>\n",
       "      <td>14</td>\n",
       "      <td>The Hitchhiker's Guide to the Galaxy (Hitchhiker's Guide to the Galaxy  #1)</td>\n",
       "      <td>Douglas Adams</td>\n",
       "      <td>4.22</td>\n",
       "      <td>1400052920</td>\n",
       "      <td>9781400052929</td>\n",
       "      <td>eng</td>\n",
       "      <td>215</td>\n",
       "      <td>4930</td>\n",
       "      <td>460</td>\n",
       "      <td>8/3/2004</td>\n",
       "      <td>Crown</td>\n",
       "    </tr>\n",
       "    <tr>\n",
       "      <th>10</th>\n",
       "      <td>16</td>\n",
       "      <td>The Hitchhiker's Guide to the Galaxy (Hitchhiker's Guide to the Galaxy  #1)</td>\n",
       "      <td>Douglas Adams/Stephen Fry</td>\n",
       "      <td>4.22</td>\n",
       "      <td>0739322206</td>\n",
       "      <td>9780739322208</td>\n",
       "      <td>eng</td>\n",
       "      <td>6</td>\n",
       "      <td>1266</td>\n",
       "      <td>253</td>\n",
       "      <td>3/23/2005</td>\n",
       "      <td>Random House Audio</td>\n",
       "    </tr>\n",
       "    <tr>\n",
       "      <th>11</th>\n",
       "      <td>18</td>\n",
       "      <td>The Ultimate Hitchhiker's Guide (Hitchhiker's Guide to the Galaxy  #1-5)</td>\n",
       "      <td>Douglas Adams</td>\n",
       "      <td>4.38</td>\n",
       "      <td>0517149257</td>\n",
       "      <td>9780517149256</td>\n",
       "      <td>eng</td>\n",
       "      <td>815</td>\n",
       "      <td>2877</td>\n",
       "      <td>195</td>\n",
       "      <td>1/17/1996</td>\n",
       "      <td>Wings Books</td>\n",
       "    </tr>\n",
       "    <tr>\n",
       "      <th>12</th>\n",
       "      <td>21</td>\n",
       "      <td>A Short History of Nearly Everything</td>\n",
       "      <td>Bill Bryson</td>\n",
       "      <td>4.21</td>\n",
       "      <td>076790818X</td>\n",
       "      <td>9780767908184</td>\n",
       "      <td>eng</td>\n",
       "      <td>544</td>\n",
       "      <td>248558</td>\n",
       "      <td>9396</td>\n",
       "      <td>9/14/2004</td>\n",
       "      <td>Broadway Books</td>\n",
       "    </tr>\n",
       "    <tr>\n",
       "      <th>13</th>\n",
       "      <td>22</td>\n",
       "      <td>Bill Bryson's African Diary</td>\n",
       "      <td>Bill Bryson</td>\n",
       "      <td>3.44</td>\n",
       "      <td>0767915062</td>\n",
       "      <td>9780767915069</td>\n",
       "      <td>eng</td>\n",
       "      <td>55</td>\n",
       "      <td>7270</td>\n",
       "      <td>499</td>\n",
       "      <td>12/3/2002</td>\n",
       "      <td>Broadway Books</td>\n",
       "    </tr>\n",
       "    <tr>\n",
       "      <th>14</th>\n",
       "      <td>23</td>\n",
       "      <td>Bryson's Dictionary of Troublesome Words: A Writer's Guide to Getting It Right</td>\n",
       "      <td>Bill Bryson</td>\n",
       "      <td>3.87</td>\n",
       "      <td>0767910435</td>\n",
       "      <td>9780767910439</td>\n",
       "      <td>eng</td>\n",
       "      <td>256</td>\n",
       "      <td>2088</td>\n",
       "      <td>131</td>\n",
       "      <td>9/14/2004</td>\n",
       "      <td>Broadway Books</td>\n",
       "    </tr>\n",
       "  </tbody>\n",
       "</table>\n",
       "</div>"
      ],
      "text/plain": [
       "    bookID  \\\n",
       "0        1   \n",
       "1        2   \n",
       "2        4   \n",
       "3        5   \n",
       "4        8   \n",
       "5        9   \n",
       "6       10   \n",
       "7       12   \n",
       "8       13   \n",
       "9       14   \n",
       "10      16   \n",
       "11      18   \n",
       "12      21   \n",
       "13      22   \n",
       "14      23   \n",
       "\n",
       "                                                                                                           title  \\\n",
       "0                                                      Harry Potter and the Half-Blood Prince (Harry Potter  #6)   \n",
       "1                                                   Harry Potter and the Order of the Phoenix (Harry Potter  #5)   \n",
       "2                                                     Harry Potter and the Chamber of Secrets (Harry Potter  #2)   \n",
       "3                                                    Harry Potter and the Prisoner of Azkaban (Harry Potter  #3)   \n",
       "4                                                         Harry Potter Boxed Set  Books 1-5 (Harry Potter  #1-5)   \n",
       "5                        Unauthorized Harry Potter Book Seven News: \"Half-Blood Prince\" Analysis and Speculation   \n",
       "6                                                                   Harry Potter Collection (Harry Potter  #1-6)   \n",
       "7   The Ultimate Hitchhiker's Guide: Five Complete Novels and One Story (Hitchhiker's Guide to the Galaxy  #1-5)   \n",
       "8                         The Ultimate Hitchhiker's Guide to the Galaxy (Hitchhiker's Guide to the Galaxy  #1-5)   \n",
       "9                                    The Hitchhiker's Guide to the Galaxy (Hitchhiker's Guide to the Galaxy  #1)   \n",
       "10                                   The Hitchhiker's Guide to the Galaxy (Hitchhiker's Guide to the Galaxy  #1)   \n",
       "11                                      The Ultimate Hitchhiker's Guide (Hitchhiker's Guide to the Galaxy  #1-5)   \n",
       "12                                                                          A Short History of Nearly Everything   \n",
       "13                                                                                   Bill Bryson's African Diary   \n",
       "14                                Bryson's Dictionary of Troublesome Words: A Writer's Guide to Getting It Right   \n",
       "\n",
       "                       authors  average_rating        isbn         isbn13  \\\n",
       "0   J.K. Rowling/Mary GrandPré            4.57  0439785960  9780439785969   \n",
       "1   J.K. Rowling/Mary GrandPré            4.49  0439358078  9780439358071   \n",
       "2                 J.K. Rowling            4.42  0439554896  9780439554893   \n",
       "3   J.K. Rowling/Mary GrandPré            4.56  043965548X  9780439655484   \n",
       "4   J.K. Rowling/Mary GrandPré            4.78  0439682584  9780439682589   \n",
       "5       W. Frederick Zimmerman            3.74  0976540606  9780976540601   \n",
       "6                 J.K. Rowling            4.73  0439827604  9780439827607   \n",
       "7                Douglas Adams            4.38  0517226952  9780517226957   \n",
       "8                Douglas Adams            4.38  0345453743  9780345453747   \n",
       "9                Douglas Adams            4.22  1400052920  9781400052929   \n",
       "10   Douglas Adams/Stephen Fry            4.22  0739322206  9780739322208   \n",
       "11               Douglas Adams            4.38  0517149257  9780517149256   \n",
       "12                 Bill Bryson            4.21  076790818X  9780767908184   \n",
       "13                 Bill Bryson            3.44  0767915062  9780767915069   \n",
       "14                 Bill Bryson            3.87  0767910435  9780767910439   \n",
       "\n",
       "   language_code    num_pages  ratings_count  text_reviews_count  \\\n",
       "0            eng          652        2095690               27591   \n",
       "1            eng          870        2153167               29221   \n",
       "2            eng          352           6333                 244   \n",
       "3            eng          435        2339585               36325   \n",
       "4            eng         2690          41428                 164   \n",
       "5            eng          152             19                   1   \n",
       "6            eng         3342          28242                 808   \n",
       "7            eng          815           3628                 254   \n",
       "8            eng          815         249558                4080   \n",
       "9            eng          215           4930                 460   \n",
       "10           eng            6           1266                 253   \n",
       "11           eng          815           2877                 195   \n",
       "12           eng          544         248558                9396   \n",
       "13           eng           55           7270                 499   \n",
       "14           eng          256           2088                 131   \n",
       "\n",
       "   publication_date           publisher  \n",
       "0         9/16/2006     Scholastic Inc.  \n",
       "1          9/1/2004     Scholastic Inc.  \n",
       "2         11/1/2003          Scholastic  \n",
       "3          5/1/2004     Scholastic Inc.  \n",
       "4         9/13/2004          Scholastic  \n",
       "5         4/26/2005        Nimble Books  \n",
       "6         9/12/2005          Scholastic  \n",
       "7         11/1/2005      Gramercy Books  \n",
       "8         4/30/2002       Del Rey Books  \n",
       "9          8/3/2004               Crown  \n",
       "10        3/23/2005  Random House Audio  \n",
       "11        1/17/1996         Wings Books  \n",
       "12        9/14/2004      Broadway Books  \n",
       "13        12/3/2002      Broadway Books  \n",
       "14        9/14/2004      Broadway Books  "
      ]
     },
     "execution_count": 169,
     "metadata": {},
     "output_type": "execute_result"
    }
   ],
   "source": [
    "train_dataset.head(15)"
   ]
  },
  {
   "cell_type": "code",
   "execution_count": 164,
   "metadata": {},
   "outputs": [],
   "source": [
    "import requests\n"
   ]
  },
  {
   "cell_type": "code",
   "execution_count": 226,
   "metadata": {},
   "outputs": [],
   "source": [
    "def retrieve_book_meta_data_google_api(isbn):\n",
    "    url = f\"https://www.googleapis.com/books/v1/volumes?q=isbn:{isbn}\"\n",
    "    resp = requests.get(url)\n",
    "    json = resp.json()\n",
    "    return json\n",
    "\n",
    "\n"
   ]
  },
  {
   "cell_type": "code",
   "execution_count": 228,
   "metadata": {},
   "outputs": [
    {
     "data": {
      "text/plain": [
       "array(['0439785960', '0439358078', '0439554896', ..., '0140131965',\n",
       "       '0060878827', '8497646983'], dtype=object)"
      ]
     },
     "execution_count": 228,
     "metadata": {},
     "output_type": "execute_result"
    }
   ],
   "source": [
    "isbn_array = train_dataset.isbn.values\n",
    "\n",
    "json_array\n",
    "for isbn_key in isbn_array\n"
   ]
  },
  {
   "cell_type": "code",
   "execution_count": 222,
   "metadata": {
    "scrolled": false
   },
   "outputs": [
    {
     "data": {
      "text/plain": [
       "'Fiction'"
      ]
     },
     "execution_count": 222,
     "metadata": {},
     "output_type": "execute_result"
    }
   ],
   "source": [
    "json['items'][0]['volumeInfo']['categories'][0]"
   ]
  },
  {
   "cell_type": "code",
   "execution_count": 223,
   "metadata": {
    "scrolled": false
   },
   "outputs": [
    {
     "data": {
      "text/plain": [
       "{'kind': 'books#volumes',\n",
       " 'totalItems': 1,\n",
       " 'items': [{'kind': 'books#volume',\n",
       "   'id': 'LH5C9q83T6wC',\n",
       "   'etag': 'udjA+xwqFqQ',\n",
       "   'selfLink': 'https://www.googleapis.com/books/v1/volumes/LH5C9q83T6wC',\n",
       "   'volumeInfo': {'title': 'Unauthorized Harry Potter and the Deathly Hallows News',\n",
       "    'subtitle': 'Harry Potter Book Seven and Half-Blood Prince Analysis',\n",
       "    'authors': ['W. Frederick Zimmerman'],\n",
       "    'publisher': 'Nimble Books',\n",
       "    'publishedDate': '2005-04',\n",
       "    'description': 'Through the magic of print-on-demand technology, this \"nimble\" guide to the work of best-selling author J. K. Rowling provides the latest news about the author and her works, updated whenever there are significant developments. Unlike a conventional book, for which editions are printed in quantity every couple of years, this \"living book\" goes through frequent \"mini-editions\" and is printed fresh whenever customers place an order. Purchasers are entitled to free PDF updates! An entirely new section of analysis with more than 75 new pages will be added shortly after the release of \"Harry Potter and the Half-Blood Prince\" on July 16, 2005.',\n",
       "    'industryIdentifiers': [{'type': 'ISBN_13', 'identifier': '9780976540601'},\n",
       "     {'type': 'ISBN_10', 'identifier': '0976540606'}],\n",
       "    'readingModes': {'text': True, 'image': False},\n",
       "    'pageCount': 152,\n",
       "    'printType': 'BOOK',\n",
       "    'categories': ['Fiction'],\n",
       "    'averageRating': 3.5,\n",
       "    'ratingsCount': 11,\n",
       "    'maturityRating': 'NOT_MATURE',\n",
       "    'allowAnonLogging': False,\n",
       "    'contentVersion': '0.1.1.0.preview.2',\n",
       "    'imageLinks': {'smallThumbnail': 'http://books.google.com/books/content?id=LH5C9q83T6wC&printsec=frontcover&img=1&zoom=5&source=gbs_api',\n",
       "     'thumbnail': 'http://books.google.com/books/content?id=LH5C9q83T6wC&printsec=frontcover&img=1&zoom=1&source=gbs_api'},\n",
       "    'language': 'en',\n",
       "    'previewLink': 'http://books.google.se/books?id=LH5C9q83T6wC&dq=isbn:0976540606&hl=&cd=1&source=gbs_api',\n",
       "    'infoLink': 'http://books.google.se/books?id=LH5C9q83T6wC&dq=isbn:0976540606&hl=&source=gbs_api',\n",
       "    'canonicalVolumeLink': 'https://books.google.com/books/about/Unauthorized_Harry_Potter_and_the_Deathl.html?hl=&id=LH5C9q83T6wC'},\n",
       "   'saleInfo': {'country': 'SE',\n",
       "    'saleability': 'NOT_FOR_SALE',\n",
       "    'isEbook': False},\n",
       "   'accessInfo': {'country': 'SE',\n",
       "    'viewability': 'NO_PAGES',\n",
       "    'embeddable': False,\n",
       "    'publicDomain': False,\n",
       "    'textToSpeechPermission': 'ALLOWED',\n",
       "    'epub': {'isAvailable': True},\n",
       "    'pdf': {'isAvailable': True},\n",
       "    'webReaderLink': 'http://play.google.com/books/reader?id=LH5C9q83T6wC&hl=&source=gbs_api',\n",
       "    'accessViewStatus': 'NONE',\n",
       "    'quoteSharingAllowed': False},\n",
       "   'searchInfo': {'textSnippet': 'Through the magic of print-on-demand technology, this &quot;nimble&quot; guide to the work of best-selling author J. K. Rowling provides the latest news about the author and her works, updated whenever there are significant developments.'}}]}"
      ]
     },
     "execution_count": 223,
     "metadata": {},
     "output_type": "execute_result"
    }
   ],
   "source": [
    "train_dataset['']"
   ]
  },
  {
   "cell_type": "code",
   "execution_count": 217,
   "metadata": {},
   "outputs": [
    {
     "data": {
      "text/plain": [
       "\"https://www.googleapis.com/books/v1/volumes?q=isbn:'0767910435\""
      ]
     },
     "execution_count": 217,
     "metadata": {},
     "output_type": "execute_result"
    }
   ],
   "source": [
    "url"
   ]
  },
  {
   "cell_type": "code",
   "execution_count": 7,
   "metadata": {},
   "outputs": [
    {
     "ename": "NameError",
     "evalue": "name 'train_dataset' is not defined",
     "output_type": "error",
     "traceback": [
      "\u001b[0;31m---------------------------------------------------------------------------\u001b[0m",
      "\u001b[0;31mNameError\u001b[0m                                 Traceback (most recent call last)",
      "Cell \u001b[0;32mIn [7], line 1\u001b[0m\n\u001b[0;32m----> 1\u001b[0m \u001b[38;5;28mlen\u001b[39m(\u001b[43mtrain_dataset\u001b[49m)\n",
      "\u001b[0;31mNameError\u001b[0m: name 'train_dataset' is not defined"
     ]
    }
   ],
   "source": [
    "len(train_dataset)"
   ]
  },
  {
   "cell_type": "code",
   "execution_count": null,
   "metadata": {},
   "outputs": [],
   "source": []
  },
  {
   "cell_type": "code",
   "execution_count": null,
   "metadata": {},
   "outputs": [],
   "source": []
  },
  {
   "cell_type": "code",
   "execution_count": 229,
   "metadata": {},
   "outputs": [
    {
     "ename": "NameError",
     "evalue": "name 'openai' is not defined",
     "output_type": "error",
     "traceback": [
      "\u001b[0;31m---------------------------------------------------------------------------\u001b[0m",
      "\u001b[0;31mNameError\u001b[0m                                 Traceback (most recent call last)",
      "Cell \u001b[0;32mIn [229], line 1\u001b[0m\n\u001b[0;32m----> 1\u001b[0m response \u001b[38;5;241m=\u001b[39m \u001b[43mopenai\u001b[49m\u001b[38;5;241m.\u001b[39mImage\u001b[38;5;241m.\u001b[39mcreate(\n\u001b[1;32m      2\u001b[0m   prompt\u001b[38;5;241m=\u001b[39m\u001b[38;5;124m\"\u001b[39m\u001b[38;5;124ma white siamese cat\u001b[39m\u001b[38;5;124m\"\u001b[39m,\n\u001b[1;32m      3\u001b[0m   n\u001b[38;5;241m=\u001b[39m\u001b[38;5;241m1\u001b[39m,\n\u001b[1;32m      4\u001b[0m   size\u001b[38;5;241m=\u001b[39m\u001b[38;5;124m\"\u001b[39m\u001b[38;5;124m1024x1024\u001b[39m\u001b[38;5;124m\"\u001b[39m\n\u001b[1;32m      5\u001b[0m )\n\u001b[1;32m      6\u001b[0m image_url \u001b[38;5;241m=\u001b[39m response[\u001b[38;5;124m'\u001b[39m\u001b[38;5;124mdata\u001b[39m\u001b[38;5;124m'\u001b[39m][\u001b[38;5;241m0\u001b[39m][\u001b[38;5;124m'\u001b[39m\u001b[38;5;124murl\u001b[39m\u001b[38;5;124m'\u001b[39m]\n",
      "\u001b[0;31mNameError\u001b[0m: name 'openai' is not defined"
     ]
    }
   ],
   "source": [
    "response = openai.Image.create(\n",
    "  prompt=\"a white siamese cat\",\n",
    "  n=1,\n",
    "  size=\"1024x1024\"\n",
    ")\n",
    "image_url = response['data'][0]['url']"
   ]
  },
  {
   "cell_type": "code",
   "execution_count": 6,
   "metadata": {},
   "outputs": [
    {
     "ename": "ModuleNotFoundError",
     "evalue": "No module named 'openai'",
     "output_type": "error",
     "traceback": [
      "\u001b[0;31m---------------------------------------------------------------------------\u001b[0m",
      "\u001b[0;31mModuleNotFoundError\u001b[0m                       Traceback (most recent call last)",
      "Cell \u001b[0;32mIn [6], line 1\u001b[0m\n\u001b[0;32m----> 1\u001b[0m \u001b[38;5;28;01mimport\u001b[39;00m \u001b[38;5;21;01mopenai\u001b[39;00m\n",
      "\u001b[0;31mModuleNotFoundError\u001b[0m: No module named 'openai'"
     ]
    }
   ],
   "source": [
    "import openai"
   ]
  },
  {
   "cell_type": "code",
   "execution_count": null,
   "metadata": {},
   "outputs": [],
   "source": []
  }
 ],
 "metadata": {
  "kernelspec": {
   "display_name": "books_dataset_env",
   "language": "python",
   "name": "books_dataset_env"
  },
  "language_info": {
   "codemirror_mode": {
    "name": "ipython",
    "version": 3
   },
   "file_extension": ".py",
   "mimetype": "text/x-python",
   "name": "python",
   "nbconvert_exporter": "python",
   "pygments_lexer": "ipython3",
   "version": "3.9.4"
  }
 },
 "nbformat": 4,
 "nbformat_minor": 2
}
