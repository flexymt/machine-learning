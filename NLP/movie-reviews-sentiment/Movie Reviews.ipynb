{
 "cells": [
  {
   "cell_type": "markdown",
   "id": "a253db10",
   "metadata": {},
   "source": [
    "# Movie Reviews Classificaiton and NLP"
   ]
  },
  {
   "cell_type": "markdown",
   "id": "1a0d1b49",
   "metadata": {},
   "source": [
    "https://www.kaggle.com/competitions/word2vec-nlp-tutorial/data\n",
    "\n",
    "Running a sentiment classificaiton task on Movie Reviews where the embedding will be compared between BERT and FastText. For Classification Random Forest and Logistic Regression will be used."
   ]
  },
  {
   "cell_type": "markdown",
   "id": "2936aab6",
   "metadata": {},
   "source": [
    "# 1.  Importing Packages "
   ]
  },
  {
   "cell_type": "code",
   "execution_count": 153,
   "id": "796bd2b4",
   "metadata": {},
   "outputs": [],
   "source": [
    "import time\n",
    "import pandas as pd\n",
    "import numpy as np\n",
    "import sklearn as sk\n",
    "from sklearn.ensemble import RandomForestClassifier\n",
    "from sklearn.linear_model import LogisticRegression\n",
    "from sklearn.model_selection import train_test_split,cross_val_score,RandomizedSearchCV\n",
    "from sklearn.metrics import *\n",
    "from sklearn.svm import LinearSVC\n",
    "import matplotlib.pyplot as plt\n",
    "import seaborn as sns\n",
    "import scipy.stats as stats\n",
    "from scipy.stats import mannwhitneyu\n",
    "import gensim as gs\n",
    "from gensim.utils import simple_preprocess\n",
    "from gensim.models import FastText\n",
    "import torch\n",
    "from transformers import BertModel,BertTokenizer\n",
    "from sentence_transformers import SentenceTransformer"
   ]
  },
  {
   "cell_type": "markdown",
   "id": "5ee2ea77",
   "metadata": {},
   "source": [
    "# 2. Importing Data # "
   ]
  },
  {
   "cell_type": "code",
   "execution_count": 9,
   "id": "ea8f968d",
   "metadata": {},
   "outputs": [],
   "source": [
    "labeled_train_data = pd.read_csv('labeledTrainData.tsv', sep= '\\t')"
   ]
  },
  {
   "cell_type": "markdown",
   "id": "ab90ffa2",
   "metadata": {},
   "source": [
    "# 3. Initial Data Exploration"
   ]
  },
  {
   "cell_type": "code",
   "execution_count": 10,
   "id": "5ff285a1",
   "metadata": {},
   "outputs": [
    {
     "data": {
      "text/html": [
       "<div>\n",
       "<style scoped>\n",
       "    .dataframe tbody tr th:only-of-type {\n",
       "        vertical-align: middle;\n",
       "    }\n",
       "\n",
       "    .dataframe tbody tr th {\n",
       "        vertical-align: top;\n",
       "    }\n",
       "\n",
       "    .dataframe thead th {\n",
       "        text-align: right;\n",
       "    }\n",
       "</style>\n",
       "<table border=\"1\" class=\"dataframe\">\n",
       "  <thead>\n",
       "    <tr style=\"text-align: right;\">\n",
       "      <th></th>\n",
       "      <th>id</th>\n",
       "      <th>sentiment</th>\n",
       "      <th>review</th>\n",
       "    </tr>\n",
       "  </thead>\n",
       "  <tbody>\n",
       "    <tr>\n",
       "      <th>0</th>\n",
       "      <td>5814_8</td>\n",
       "      <td>1</td>\n",
       "      <td>With all this stuff going down at the moment w...</td>\n",
       "    </tr>\n",
       "    <tr>\n",
       "      <th>1</th>\n",
       "      <td>2381_9</td>\n",
       "      <td>1</td>\n",
       "      <td>\\The Classic War of the Worlds\\\" by Timothy Hi...</td>\n",
       "    </tr>\n",
       "    <tr>\n",
       "      <th>2</th>\n",
       "      <td>7759_3</td>\n",
       "      <td>0</td>\n",
       "      <td>The film starts with a manager (Nicholas Bell)...</td>\n",
       "    </tr>\n",
       "    <tr>\n",
       "      <th>3</th>\n",
       "      <td>3630_4</td>\n",
       "      <td>0</td>\n",
       "      <td>It must be assumed that those who praised this...</td>\n",
       "    </tr>\n",
       "    <tr>\n",
       "      <th>4</th>\n",
       "      <td>9495_8</td>\n",
       "      <td>1</td>\n",
       "      <td>Superbly trashy and wondrously unpretentious 8...</td>\n",
       "    </tr>\n",
       "  </tbody>\n",
       "</table>\n",
       "</div>"
      ],
      "text/plain": [
       "       id  sentiment                                             review\n",
       "0  5814_8          1  With all this stuff going down at the moment w...\n",
       "1  2381_9          1  \\The Classic War of the Worlds\\\" by Timothy Hi...\n",
       "2  7759_3          0  The film starts with a manager (Nicholas Bell)...\n",
       "3  3630_4          0  It must be assumed that those who praised this...\n",
       "4  9495_8          1  Superbly trashy and wondrously unpretentious 8..."
      ]
     },
     "execution_count": 10,
     "metadata": {},
     "output_type": "execute_result"
    }
   ],
   "source": [
    "labeled_train_data.head()"
   ]
  },
  {
   "cell_type": "code",
   "execution_count": 11,
   "id": "3d524bea",
   "metadata": {},
   "outputs": [
    {
     "data": {
      "text/html": [
       "<div>\n",
       "<style scoped>\n",
       "    .dataframe tbody tr th:only-of-type {\n",
       "        vertical-align: middle;\n",
       "    }\n",
       "\n",
       "    .dataframe tbody tr th {\n",
       "        vertical-align: top;\n",
       "    }\n",
       "\n",
       "    .dataframe thead th {\n",
       "        text-align: right;\n",
       "    }\n",
       "</style>\n",
       "<table border=\"1\" class=\"dataframe\">\n",
       "  <thead>\n",
       "    <tr style=\"text-align: right;\">\n",
       "      <th></th>\n",
       "      <th>id</th>\n",
       "      <th>sentiment</th>\n",
       "      <th>review</th>\n",
       "    </tr>\n",
       "  </thead>\n",
       "  <tbody>\n",
       "    <tr>\n",
       "      <th>count</th>\n",
       "      <td>25000</td>\n",
       "      <td>25000.00000</td>\n",
       "      <td>25000</td>\n",
       "    </tr>\n",
       "    <tr>\n",
       "      <th>unique</th>\n",
       "      <td>25000</td>\n",
       "      <td>NaN</td>\n",
       "      <td>24904</td>\n",
       "    </tr>\n",
       "    <tr>\n",
       "      <th>top</th>\n",
       "      <td>5814_8</td>\n",
       "      <td>NaN</td>\n",
       "      <td>When i got this movie free from my job, along ...</td>\n",
       "    </tr>\n",
       "    <tr>\n",
       "      <th>freq</th>\n",
       "      <td>1</td>\n",
       "      <td>NaN</td>\n",
       "      <td>3</td>\n",
       "    </tr>\n",
       "    <tr>\n",
       "      <th>mean</th>\n",
       "      <td>NaN</td>\n",
       "      <td>0.50000</td>\n",
       "      <td>NaN</td>\n",
       "    </tr>\n",
       "    <tr>\n",
       "      <th>std</th>\n",
       "      <td>NaN</td>\n",
       "      <td>0.50001</td>\n",
       "      <td>NaN</td>\n",
       "    </tr>\n",
       "    <tr>\n",
       "      <th>min</th>\n",
       "      <td>NaN</td>\n",
       "      <td>0.00000</td>\n",
       "      <td>NaN</td>\n",
       "    </tr>\n",
       "    <tr>\n",
       "      <th>25%</th>\n",
       "      <td>NaN</td>\n",
       "      <td>0.00000</td>\n",
       "      <td>NaN</td>\n",
       "    </tr>\n",
       "    <tr>\n",
       "      <th>50%</th>\n",
       "      <td>NaN</td>\n",
       "      <td>0.50000</td>\n",
       "      <td>NaN</td>\n",
       "    </tr>\n",
       "    <tr>\n",
       "      <th>75%</th>\n",
       "      <td>NaN</td>\n",
       "      <td>1.00000</td>\n",
       "      <td>NaN</td>\n",
       "    </tr>\n",
       "    <tr>\n",
       "      <th>max</th>\n",
       "      <td>NaN</td>\n",
       "      <td>1.00000</td>\n",
       "      <td>NaN</td>\n",
       "    </tr>\n",
       "  </tbody>\n",
       "</table>\n",
       "</div>"
      ],
      "text/plain": [
       "            id    sentiment                                             review\n",
       "count    25000  25000.00000                                              25000\n",
       "unique   25000          NaN                                              24904\n",
       "top     5814_8          NaN  When i got this movie free from my job, along ...\n",
       "freq         1          NaN                                                  3\n",
       "mean       NaN      0.50000                                                NaN\n",
       "std        NaN      0.50001                                                NaN\n",
       "min        NaN      0.00000                                                NaN\n",
       "25%        NaN      0.00000                                                NaN\n",
       "50%        NaN      0.50000                                                NaN\n",
       "75%        NaN      1.00000                                                NaN\n",
       "max        NaN      1.00000                                                NaN"
      ]
     },
     "execution_count": 11,
     "metadata": {},
     "output_type": "execute_result"
    }
   ],
   "source": [
    "labeled_train_data.describe(include = 'all')"
   ]
  },
  {
   "cell_type": "markdown",
   "id": "5539c0fe",
   "metadata": {},
   "source": [
    "## 3.1 Duplicates"
   ]
  },
  {
   "cell_type": "code",
   "execution_count": 12,
   "id": "2e6e73fb",
   "metadata": {},
   "outputs": [
    {
     "data": {
      "text/plain": [
       "0"
      ]
     },
     "execution_count": 12,
     "metadata": {},
     "output_type": "execute_result"
    }
   ],
   "source": [
    "# Checking duplicates\n",
    "labeled_train_data.duplicated().sum()"
   ]
  },
  {
   "cell_type": "code",
   "execution_count": 13,
   "id": "e1cddfb8",
   "metadata": {},
   "outputs": [
    {
     "data": {
      "text/plain": [
       "0        With all this stuff going down at the moment w...\n",
       "1        \\The Classic War of the Worlds\\\" by Timothy Hi...\n",
       "2        The film starts with a manager (Nicholas Bell)...\n",
       "3        It must be assumed that those who praised this...\n",
       "4        Superbly trashy and wondrously unpretentious 8...\n",
       "                               ...                        \n",
       "24995    It seems like more consideration has gone into...\n",
       "24996    I don't believe they made this film. Completel...\n",
       "24997    Guy is a loser. Can't get girls, needs to buil...\n",
       "24998    This 30 minute documentary Buñuel made in the ...\n",
       "24999    I saw this movie as a child and it broke my he...\n",
       "Name: review, Length: 25000, dtype: object"
      ]
     },
     "execution_count": 13,
     "metadata": {},
     "output_type": "execute_result"
    }
   ],
   "source": [
    "labeled_train_data.review"
   ]
  },
  {
   "cell_type": "code",
   "execution_count": 14,
   "id": "dc450e77",
   "metadata": {},
   "outputs": [
    {
     "data": {
      "text/plain": [
       "\"With all this stuff going down at the moment with MJ i've started listening to his music, watching the odd documentary here and there, watched The Wiz and watched Moonwalker again. Maybe i just want to get a certain insight into this guy who i thought was really cool in the eighties just to maybe make up my mind whether he is guilty or innocent. Moonwalker is part biography, part feature film which i remember going to see at the cinema when it was originally released. Some of it has subtle messages about MJ's feeling towards the press and also the obvious message of drugs are bad m'kay.<br /><br />Visually impressive but of course this is all about Michael Jackson so unless you remotely like MJ in anyway then you are going to hate this and find it boring. Some may call MJ an egotist for consenting to the making of this movie BUT MJ and most of his fans would say that he made it for the fans which if true is really nice of him.<br /><br />The actual feature film bit when it finally starts is only on for 20 minutes or so excluding the Smooth Criminal sequence and Joe Pesci is convincing as a psychopathic all powerful drug lord. Why he wants MJ dead so bad is beyond me. Because MJ overheard his plans? Nah, Joe Pesci's character ranted that he wanted people to know it is he who is supplying drugs etc so i dunno, maybe he just hates MJ's music.<br /><br />Lots of cool things in this like MJ turning into a car and a robot and the whole Speed Demon sequence. Also, the director must have had the patience of a saint when it came to filming the kiddy Bad sequence as usually directors hate working with one kid let alone a whole bunch of them performing a complex dance scene.<br /><br />Bottom line, this movie is for people who like MJ on one level or another (which i think is most people). If not, then stay away. It does try and give off a wholesome message and ironically MJ's bestest buddy in this movie is a girl! Michael Jackson is truly one of the most talented people ever to grace this planet but is he guilty? Well, with all the attention i've gave this subject....hmmm well i don't know because people can be different behind closed doors, i know this for a fact. He is either an extremely nice but stupid guy or one of the most sickest liars. I hope he is not the latter.\""
      ]
     },
     "execution_count": 14,
     "metadata": {},
     "output_type": "execute_result"
    }
   ],
   "source": [
    "# Review example\n",
    "labeled_train_data.review[0]"
   ]
  },
  {
   "cell_type": "markdown",
   "id": "882afa00",
   "metadata": {},
   "source": [
    "##  3.2 Null values"
   ]
  },
  {
   "cell_type": "code",
   "execution_count": 15,
   "id": "6ad5b9dd",
   "metadata": {},
   "outputs": [
    {
     "data": {
      "text/plain": [
       "id           0\n",
       "sentiment    0\n",
       "review       0\n",
       "dtype: int64"
      ]
     },
     "execution_count": 15,
     "metadata": {},
     "output_type": "execute_result"
    }
   ],
   "source": [
    "# No null values\n",
    "labeled_train_data.isnull().sum()"
   ]
  },
  {
   "cell_type": "markdown",
   "id": "0ae54717",
   "metadata": {},
   "source": [
    "## 3.3 Sentiment Distribution"
   ]
  },
  {
   "cell_type": "code",
   "execution_count": 16,
   "id": "546bace3",
   "metadata": {},
   "outputs": [
    {
     "data": {
      "text/plain": [
       "<AxesSubplot: ylabel='sentiment'>"
      ]
     },
     "execution_count": 16,
     "metadata": {},
     "output_type": "execute_result"
    },
    {
     "data": {
      "image/png": "[encoded data removed]",
      "text/plain": [
       "<Figure size 640x480 with 1 Axes>"
      ]
     },
     "metadata": {},
     "output_type": "display_data"
    }
   ],
   "source": [
    "# Sentiment distribution\n",
    "sentiment_dist = pd.DataFrame(labeled_train_data.sentiment.value_counts())\n",
    "sns.barplot(data = sentiment_dist, x = sentiment_dist.index, y = 'sentiment')"
   ]
  },
  {
   "cell_type": "markdown",
   "id": "bb9c3a09",
   "metadata": {},
   "source": [
    "## 3.3 Review Length Distribution"
   ]
  },
  {
   "cell_type": "code",
   "execution_count": 17,
   "id": "b9b73aec",
   "metadata": {},
   "outputs": [],
   "source": [
    "# Creating the variable legnth of review. \n",
    "review_length = labeled_train_data.review.apply(lambda x : len(x))\n",
    "review_length = pd.DataFrame(review_length)\n",
    "review_length.columns = ['review_text_length']\n",
    "review_length['sentiment'] = labeled_train_data.sentiment"
   ]
  },
  {
   "cell_type": "code",
   "execution_count": 18,
   "id": "3cffe7bb",
   "metadata": {},
   "outputs": [
    {
     "data": {
      "text/plain": [
       "<AxesSubplot: xlabel='review_text_length', ylabel='Density'>"
      ]
     },
     "execution_count": 18,
     "metadata": {},
     "output_type": "execute_result"
    },
    {
     "data": {
      "image/png": "[encoded data removed]",
      "text/plain": [
       "<Figure size 640x480 with 1 Axes>"
      ]
     },
     "metadata": {},
     "output_type": "display_data"
    }
   ],
   "source": [
    "# Checking distributions between \n",
    "sns.kdeplot(data = review_length, x = 'review_text_length', hue=\"sentiment\")"
   ]
  },
  {
   "cell_type": "code",
   "execution_count": 19,
   "id": "01386f7e",
   "metadata": {},
   "outputs": [
    {
     "data": {
      "text/plain": [
       "<AxesSubplot: xlabel='sentiment', ylabel='review_text_length'>"
      ]
     },
     "execution_count": 19,
     "metadata": {},
     "output_type": "execute_result"
    },
    {
     "data": {
      "image/png": "[encoded data removed]",
      "text/plain": [
       "<Figure size 640x480 with 1 Axes>"
      ]
     },
     "metadata": {},
     "output_type": "display_data"
    }
   ],
   "source": [
    "sns.boxplot(data = review_length, x = 'sentiment', y = 'review_text_length')"
   ]
  },
  {
   "cell_type": "code",
   "execution_count": 20,
   "id": "71cd5184",
   "metadata": {},
   "outputs": [],
   "source": [
    "# Running Mann Whitney U and KS 2 Sample Test. "
   ]
  },
  {
   "cell_type": "code",
   "execution_count": 21,
   "id": "b2e6adde",
   "metadata": {},
   "outputs": [
    {
     "data": {
      "text/plain": [
       "KstestResult(statistic=0.027760000000000007, pvalue=0.00012852445841707123)"
      ]
     },
     "execution_count": 21,
     "metadata": {},
     "output_type": "execute_result"
    }
   ],
   "source": [
    "stats.ks_2samp(review_length[review_length.sentiment == 0].review_text_length.values, review_length[review_length.sentiment == 1].review_text_length.values, alternative='two-sided')\n",
    "\n",
    "\n"
   ]
  },
  {
   "cell_type": "code",
   "execution_count": 22,
   "id": "a27ca026",
   "metadata": {},
   "outputs": [
    {
     "data": {
      "text/plain": [
       "MannwhitneyuResult(statistic=78057021.5, pvalue=0.9051616533936246)"
      ]
     },
     "execution_count": 22,
     "metadata": {},
     "output_type": "execute_result"
    }
   ],
   "source": [
    "mannwhitneyu(review_length[review_length.sentiment == 0].review_text_length.values, review_length[review_length.sentiment == 1].review_text_length.values)\n",
    "\n",
    "\n",
    "\n"
   ]
  },
  {
   "cell_type": "code",
   "execution_count": 23,
   "id": "6289f241",
   "metadata": {},
   "outputs": [],
   "source": [
    "# Different P-values recieved from both tests. Need to investigate later why. Distributions though look the same."
   ]
  },
  {
   "cell_type": "code",
   "execution_count": 24,
   "id": "1d89af0a",
   "metadata": {},
   "outputs": [
    {
     "data": {
      "text/plain": [
       "count    12500.000000\n",
       "mean      1305.721920\n",
       "std        959.142634\n",
       "min         52.000000\n",
       "25%        711.000000\n",
       "50%        978.000000\n",
       "75%       1569.250000\n",
       "max       8999.000000\n",
       "Name: review_text_length, dtype: float64"
      ]
     },
     "execution_count": 24,
     "metadata": {},
     "output_type": "execute_result"
    }
   ],
   "source": [
    "review_length[review_length.sentiment == 0].review_text_length.describe()"
   ]
  },
  {
   "cell_type": "code",
   "execution_count": 25,
   "id": "8ea23d93",
   "metadata": {},
   "outputs": [
    {
     "data": {
      "text/plain": [
       "count    12500.000000\n",
       "mean      1349.699200\n",
       "std       1048.890394\n",
       "min         70.000000\n",
       "25%        695.000000\n",
       "50%        984.000000\n",
       "75%       1653.000000\n",
       "max      13708.000000\n",
       "Name: review_text_length, dtype: float64"
      ]
     },
     "execution_count": 25,
     "metadata": {},
     "output_type": "execute_result"
    }
   ],
   "source": [
    "review_length[review_length.sentiment == 1].review_text_length.describe()"
   ]
  },
  {
   "cell_type": "markdown",
   "id": "c9582d4f",
   "metadata": {},
   "source": [
    "# "
   ]
  },
  {
   "cell_type": "code",
   "execution_count": 26,
   "id": "df4e1878",
   "metadata": {},
   "outputs": [],
   "source": [
    "labeled_train_data['tokenized_reviews'] = labeled_train_data.review.apply(lambda x : simple_preprocess(x))"
   ]
  },
  {
   "cell_type": "code",
   "execution_count": 27,
   "id": "a7d7017c",
   "metadata": {},
   "outputs": [
    {
     "data": {
      "text/plain": [
       "0        [with, all, this, stuff, going, down, at, the,...\n",
       "1        [the, classic, war, of, the, worlds, by, timot...\n",
       "2        [the, film, starts, with, manager, nicholas, b...\n",
       "3        [it, must, be, assumed, that, those, who, prai...\n",
       "4        [superbly, trashy, and, wondrously, unpretenti...\n",
       "                               ...                        \n",
       "24995    [it, seems, like, more, consideration, has, go...\n",
       "24996    [don, believe, they, made, this, film, complet...\n",
       "24997    [guy, is, loser, can, get, girls, needs, to, b...\n",
       "24998    [this, minute, documentary, buñuel, made, in, ...\n",
       "24999    [saw, this, movie, as, child, and, it, broke, ...\n",
       "Name: tokenized_reviews, Length: 25000, dtype: object"
      ]
     },
     "execution_count": 27,
     "metadata": {},
     "output_type": "execute_result"
    }
   ],
   "source": [
    "labeled_train_data.tokenized_reviews"
   ]
  },
  {
   "cell_type": "markdown",
   "id": "58bcd0b2",
   "metadata": {},
   "source": [
    "# 4. Fast Text Embedding + Modelling"
   ]
  },
  {
   "cell_type": "markdown",
   "id": "71d1b1d4",
   "metadata": {},
   "source": [
    "##  4.1 Text Data Preprocessing"
   ]
  },
  {
   "cell_type": "code",
   "execution_count": 28,
   "id": "ce544c7a",
   "metadata": {},
   "outputs": [],
   "source": [
    "# Tokenizing the sentences using Simple Preprocess\n",
    "labeled_train_data['tokenized_reviews'] = labeled_train_data.review.apply(lambda x : simple_preprocess(x))"
   ]
  },
  {
   "cell_type": "code",
   "execution_count": 29,
   "id": "578865a2",
   "metadata": {},
   "outputs": [
    {
     "data": {
      "text/plain": [
       "0    [with, all, this, stuff, going, down, at, the,...\n",
       "1    [the, classic, war, of, the, worlds, by, timot...\n",
       "2    [the, film, starts, with, manager, nicholas, b...\n",
       "3    [it, must, be, assumed, that, those, who, prai...\n",
       "4    [superbly, trashy, and, wondrously, unpretenti...\n",
       "Name: tokenized_reviews, dtype: object"
      ]
     },
     "execution_count": 29,
     "metadata": {},
     "output_type": "execute_result"
    }
   ],
   "source": [
    "labeled_train_data.tokenized_reviews.head(5)"
   ]
  },
  {
   "cell_type": "markdown",
   "id": "49cd95e7",
   "metadata": {},
   "source": [
    "## 4.2 Fast Text Embedding"
   ]
  },
  {
   "cell_type": "code",
   "execution_count": 30,
   "id": "22bfdd7e",
   "metadata": {},
   "outputs": [],
   "source": [
    "# Using FastText to avoid Data Leakage issues when it comes to word embeddings. \n",
    "fast_text_model = FastText(sentences = labeled_train_data.tokenized_reviews, min_count = 1)"
   ]
  },
  {
   "cell_type": "markdown",
   "id": "b2aaba5f",
   "metadata": {},
   "source": [
    "## 4.3 Text Data Preprocessing Continuation"
   ]
  },
  {
   "cell_type": "code",
   "execution_count": 31,
   "id": "71f6b710",
   "metadata": {},
   "outputs": [],
   "source": [
    "# Creating an list with the embeddings\n",
    "total_word_list = list()\n",
    "for x in range(0,len(labeled_train_data)):\n",
    "    current_sentence = labeled_train_data.tokenized_reviews[x]\n",
    "    sentence_list = list()\n",
    "    for word in current_sentence:\n",
    "        sentence_list.append(fast_text_model.wv[word])\n",
    "    total_word_list.append(sentence_list)"
   ]
  },
  {
   "cell_type": "code",
   "execution_count": 32,
   "id": "066ed6c9",
   "metadata": {},
   "outputs": [],
   "source": [
    "total_mean_of_each_element = list()\n",
    "for i in range(0,len(total_word_list)):\n",
    "    sentence = total_word_list[i]\n",
    "    mean_of_each_element = list()\n",
    "    for dimension in range(0,100):\n",
    "        n_element_array = sum(np.array(sentence)[:,dimension])\n",
    "        mean_of_each_element.append(n_element_array)\n",
    "\n",
    "    total_mean_of_each_element.append(mean_of_each_element)"
   ]
  },
  {
   "cell_type": "code",
   "execution_count": 33,
   "id": "8b726d60",
   "metadata": {},
   "outputs": [],
   "source": [
    "embeddings_columns = pd.DataFrame(total_mean_of_each_element)\n",
    "\n",
    "columns_names = list()\n",
    "for i in range(0,100):\n",
    "    columns_names.append(f\"d_{i}\")\n",
    "    \n",
    "embeddings_columns.columns = columns_names"
   ]
  },
  {
   "cell_type": "code",
   "execution_count": 34,
   "id": "6426a2b8",
   "metadata": {},
   "outputs": [],
   "source": [
    "training_dataset = pd.concat([labeled_train_data,embeddings_columns], axis = 1)\n",
    "training_dataset = training_dataset.drop(columns = ['id','review','tokenized_reviews'])"
   ]
  },
  {
   "cell_type": "code",
   "execution_count": 35,
   "id": "7edac147",
   "metadata": {},
   "outputs": [
    {
     "data": {
      "text/html": [
       "<div>\n",
       "<style scoped>\n",
       "    .dataframe tbody tr th:only-of-type {\n",
       "        vertical-align: middle;\n",
       "    }\n",
       "\n",
       "    .dataframe tbody tr th {\n",
       "        vertical-align: top;\n",
       "    }\n",
       "\n",
       "    .dataframe thead th {\n",
       "        text-align: right;\n",
       "    }\n",
       "</style>\n",
       "<table border=\"1\" class=\"dataframe\">\n",
       "  <thead>\n",
       "    <tr style=\"text-align: right;\">\n",
       "      <th></th>\n",
       "      <th>sentiment</th>\n",
       "      <th>d_0</th>\n",
       "      <th>d_1</th>\n",
       "      <th>d_2</th>\n",
       "      <th>d_3</th>\n",
       "      <th>d_4</th>\n",
       "      <th>d_5</th>\n",
       "      <th>d_6</th>\n",
       "      <th>d_7</th>\n",
       "      <th>d_8</th>\n",
       "      <th>...</th>\n",
       "      <th>d_90</th>\n",
       "      <th>d_91</th>\n",
       "      <th>d_92</th>\n",
       "      <th>d_93</th>\n",
       "      <th>d_94</th>\n",
       "      <th>d_95</th>\n",
       "      <th>d_96</th>\n",
       "      <th>d_97</th>\n",
       "      <th>d_98</th>\n",
       "      <th>d_99</th>\n",
       "    </tr>\n",
       "  </thead>\n",
       "  <tbody>\n",
       "    <tr>\n",
       "      <th>0</th>\n",
       "      <td>1</td>\n",
       "      <td>-92.388723</td>\n",
       "      <td>375.172887</td>\n",
       "      <td>551.503384</td>\n",
       "      <td>-145.110292</td>\n",
       "      <td>217.548742</td>\n",
       "      <td>-41.384465</td>\n",
       "      <td>-69.980175</td>\n",
       "      <td>268.329465</td>\n",
       "      <td>193.231569</td>\n",
       "      <td>...</td>\n",
       "      <td>-20.867283</td>\n",
       "      <td>188.065382</td>\n",
       "      <td>-358.524873</td>\n",
       "      <td>-292.212985</td>\n",
       "      <td>40.618915</td>\n",
       "      <td>-118.974356</td>\n",
       "      <td>386.005227</td>\n",
       "      <td>-79.896153</td>\n",
       "      <td>300.758541</td>\n",
       "      <td>-143.932930</td>\n",
       "    </tr>\n",
       "    <tr>\n",
       "      <th>1</th>\n",
       "      <td>1</td>\n",
       "      <td>-19.615338</td>\n",
       "      <td>131.119128</td>\n",
       "      <td>190.710311</td>\n",
       "      <td>-63.937427</td>\n",
       "      <td>72.052164</td>\n",
       "      <td>-121.154734</td>\n",
       "      <td>-65.418691</td>\n",
       "      <td>141.358464</td>\n",
       "      <td>66.299512</td>\n",
       "      <td>...</td>\n",
       "      <td>-13.125705</td>\n",
       "      <td>49.010813</td>\n",
       "      <td>-67.399990</td>\n",
       "      <td>-11.720045</td>\n",
       "      <td>73.353879</td>\n",
       "      <td>-34.478229</td>\n",
       "      <td>101.424223</td>\n",
       "      <td>-73.557770</td>\n",
       "      <td>137.230420</td>\n",
       "      <td>-76.214195</td>\n",
       "    </tr>\n",
       "    <tr>\n",
       "      <th>2</th>\n",
       "      <td>0</td>\n",
       "      <td>-270.958384</td>\n",
       "      <td>327.900884</td>\n",
       "      <td>263.428188</td>\n",
       "      <td>-33.050763</td>\n",
       "      <td>309.577498</td>\n",
       "      <td>-47.471635</td>\n",
       "      <td>9.835426</td>\n",
       "      <td>492.825806</td>\n",
       "      <td>110.079031</td>\n",
       "      <td>...</td>\n",
       "      <td>-30.164117</td>\n",
       "      <td>205.574521</td>\n",
       "      <td>-210.541221</td>\n",
       "      <td>-5.898930</td>\n",
       "      <td>18.878710</td>\n",
       "      <td>155.123072</td>\n",
       "      <td>152.845901</td>\n",
       "      <td>-74.181861</td>\n",
       "      <td>179.087257</td>\n",
       "      <td>-65.678502</td>\n",
       "    </tr>\n",
       "    <tr>\n",
       "      <th>3</th>\n",
       "      <td>0</td>\n",
       "      <td>-111.554758</td>\n",
       "      <td>426.646803</td>\n",
       "      <td>223.986302</td>\n",
       "      <td>-67.398090</td>\n",
       "      <td>285.145288</td>\n",
       "      <td>-91.493708</td>\n",
       "      <td>-44.781914</td>\n",
       "      <td>415.844394</td>\n",
       "      <td>154.805422</td>\n",
       "      <td>...</td>\n",
       "      <td>-147.060159</td>\n",
       "      <td>182.388416</td>\n",
       "      <td>-115.013618</td>\n",
       "      <td>-92.278630</td>\n",
       "      <td>143.773340</td>\n",
       "      <td>-18.344638</td>\n",
       "      <td>191.818890</td>\n",
       "      <td>-78.291218</td>\n",
       "      <td>317.652147</td>\n",
       "      <td>-194.720029</td>\n",
       "    </tr>\n",
       "    <tr>\n",
       "      <th>4</th>\n",
       "      <td>1</td>\n",
       "      <td>-200.166025</td>\n",
       "      <td>414.882380</td>\n",
       "      <td>221.574560</td>\n",
       "      <td>63.951765</td>\n",
       "      <td>282.683304</td>\n",
       "      <td>-98.541747</td>\n",
       "      <td>13.083171</td>\n",
       "      <td>232.649180</td>\n",
       "      <td>95.824230</td>\n",
       "      <td>...</td>\n",
       "      <td>-98.140487</td>\n",
       "      <td>152.847466</td>\n",
       "      <td>-265.710699</td>\n",
       "      <td>-84.354150</td>\n",
       "      <td>72.837404</td>\n",
       "      <td>27.489824</td>\n",
       "      <td>177.562197</td>\n",
       "      <td>53.726376</td>\n",
       "      <td>224.208451</td>\n",
       "      <td>-140.083977</td>\n",
       "    </tr>\n",
       "  </tbody>\n",
       "</table>\n",
       "<p>5 rows × 101 columns</p>\n",
       "</div>"
      ],
      "text/plain": [
       "   sentiment         d_0         d_1         d_2         d_3         d_4  \\\n",
       "0          1  -92.388723  375.172887  551.503384 -145.110292  217.548742   \n",
       "1          1  -19.615338  131.119128  190.710311  -63.937427   72.052164   \n",
       "2          0 -270.958384  327.900884  263.428188  -33.050763  309.577498   \n",
       "3          0 -111.554758  426.646803  223.986302  -67.398090  285.145288   \n",
       "4          1 -200.166025  414.882380  221.574560   63.951765  282.683304   \n",
       "\n",
       "          d_5        d_6         d_7         d_8  ...        d_90        d_91  \\\n",
       "0  -41.384465 -69.980175  268.329465  193.231569  ...  -20.867283  188.065382   \n",
       "1 -121.154734 -65.418691  141.358464   66.299512  ...  -13.125705   49.010813   \n",
       "2  -47.471635   9.835426  492.825806  110.079031  ...  -30.164117  205.574521   \n",
       "3  -91.493708 -44.781914  415.844394  154.805422  ... -147.060159  182.388416   \n",
       "4  -98.541747  13.083171  232.649180   95.824230  ...  -98.140487  152.847466   \n",
       "\n",
       "         d_92        d_93        d_94        d_95        d_96       d_97  \\\n",
       "0 -358.524873 -292.212985   40.618915 -118.974356  386.005227 -79.896153   \n",
       "1  -67.399990  -11.720045   73.353879  -34.478229  101.424223 -73.557770   \n",
       "2 -210.541221   -5.898930   18.878710  155.123072  152.845901 -74.181861   \n",
       "3 -115.013618  -92.278630  143.773340  -18.344638  191.818890 -78.291218   \n",
       "4 -265.710699  -84.354150   72.837404   27.489824  177.562197  53.726376   \n",
       "\n",
       "         d_98        d_99  \n",
       "0  300.758541 -143.932930  \n",
       "1  137.230420  -76.214195  \n",
       "2  179.087257  -65.678502  \n",
       "3  317.652147 -194.720029  \n",
       "4  224.208451 -140.083977  \n",
       "\n",
       "[5 rows x 101 columns]"
      ]
     },
     "execution_count": 35,
     "metadata": {},
     "output_type": "execute_result"
    }
   ],
   "source": [
    "training_dataset.head(5)"
   ]
  },
  {
   "cell_type": "markdown",
   "id": "acfa5b09",
   "metadata": {},
   "source": [
    "## 4.4 Model Data Preprocessing "
   ]
  },
  {
   "cell_type": "code",
   "execution_count": 36,
   "id": "ff0170ad",
   "metadata": {},
   "outputs": [],
   "source": [
    "y_data = training_dataset.sentiment.values\n",
    "x_data = training_dataset.drop(columns = 'sentiment')\n",
    "x_train, x_validation, y_train, y_validation = train_test_split(x_data, y_data, random_state = 0)"
   ]
  },
  {
   "cell_type": "markdown",
   "id": "c6c90b83",
   "metadata": {},
   "source": [
    "## 4.5 Model Creation"
   ]
  },
  {
   "cell_type": "code",
   "execution_count": 55,
   "id": "33576f1d",
   "metadata": {},
   "outputs": [
    {
     "name": "stdout",
     "output_type": "stream",
     "text": [
      "RF Done\n",
      "LR Done\n"
     ]
    }
   ],
   "source": [
    "# Initialize a Random Forest Model\n",
    "random_forest_model = RandomForestClassifier(n_estimators = 500)\n",
    "\n",
    "# Initialize a Logistic Regression\n",
    "\n",
    "logistic_regression_model = LogisticRegression(max_iter=1000)\n",
    "\n",
    "# Fitting the models with the training dataset\n",
    "random_forest_model.fit(x_train,y_train)\n",
    "print('RF Done')\n",
    "\n",
    "logistic_regression_model.fit(x_train,y_train)\n",
    "print('LR Done')"
   ]
  },
  {
   "cell_type": "code",
   "execution_count": 42,
   "id": "1e483037",
   "metadata": {},
   "outputs": [],
   "source": [
    "def return_predicted_score(model,threshold,x_data, y_data):\n",
    "    predicted_prob = model.predict_proba(x_data)[:,1]\n",
    "    predicted_df = pd.DataFrame()\n",
    "    predicted_df['predicted'] = predicted_prob\n",
    "    predicted_df['true_value'] = y_data\n",
    "    predicted_df['predicted_integer'] =  np.where(predicted_prob > threshold,1,0)\n",
    "    return predicted_df\n"
   ]
  },
  {
   "cell_type": "code",
   "execution_count": 57,
   "id": "3fc4f717",
   "metadata": {},
   "outputs": [
    {
     "data": {
      "text/plain": [
       "'Random Forest Training Dataset Accuracy : 100.0%'"
      ]
     },
     "execution_count": 57,
     "metadata": {},
     "output_type": "execute_result"
    }
   ],
   "source": [
    "# Random Forest Metrics\n",
    "random_forest_predicted = return_predicted_score(random_forest_model,0.5, x_data, y_data)\n",
    "\n",
    "# Checking the Accuracy of the model on the training dataset\n",
    "f\"Random Forest Training Dataset Accuracy : {random_forest_model.score(x_train,y_train)*100}%\""
   ]
  },
  {
   "cell_type": "code",
   "execution_count": 61,
   "id": "1c185a9d",
   "metadata": {},
   "outputs": [
    {
     "data": {
      "text/plain": [
       "'Logistic Regression Training Dataset Accuracy : 82.46933333333332%'"
      ]
     },
     "execution_count": 61,
     "metadata": {},
     "output_type": "execute_result"
    }
   ],
   "source": [
    "# Logistic Regression Evaluation\n",
    "logistic_regression_predicted = return_predicted_score(logistic_regression_model,0.5, x_data, y_data)\n",
    "\n",
    "# Checking the Accuracy of the model on the training dataset\n",
    "f\"Logistic Regression Training Dataset Accuracy : {logistic_regression_model.score(x_train,y_train)*100}%\""
   ]
  },
  {
   "cell_type": "markdown",
   "id": "39461d7a",
   "metadata": {},
   "source": [
    "Accuracy is slightly lower for the logistic regression model"
   ]
  },
  {
   "cell_type": "markdown",
   "id": "368974d5",
   "metadata": {},
   "source": [
    "### 4.5.1 K-Fold Cross Validation"
   ]
  },
  {
   "cell_type": "code",
   "execution_count": 165,
   "id": "e25a455f",
   "metadata": {},
   "outputs": [],
   "source": [
    "# Running 5 fold cross validation to check performance on unseen data for the RF model \n",
    "scores = cross_val_score(random_forest_model, x_data, y_data, cv=5)\n",
    "scores_rf"
   ]
  },
  {
   "cell_type": "code",
   "execution_count": 50,
   "id": "6e9a5f33",
   "metadata": {},
   "outputs": [
    {
     "ename": "NameError",
     "evalue": "name 'scores' is not defined",
     "output_type": "error",
     "traceback": [
      "\u001b[0;31m---------------------------------------------------------------------------\u001b[0m",
      "\u001b[0;31mNameError\u001b[0m                                 Traceback (most recent call last)",
      "Cell \u001b[0;32mIn [50], line 1\u001b[0m\n\u001b[0;32m----> 1\u001b[0m \u001b[43mscores\u001b[49m\n",
      "\u001b[0;31mNameError\u001b[0m: name 'scores' is not defined"
     ]
    }
   ],
   "source": [
    "scores"
   ]
  },
  {
   "cell_type": "code",
   "execution_count": 63,
   "id": "a3ae0714",
   "metadata": {},
   "outputs": [
    {
     "data": {
      "text/plain": [
       "array([0.8252, 0.8246, 0.8206, 0.8266, 0.8184])"
      ]
     },
     "execution_count": 63,
     "metadata": {},
     "output_type": "execute_result"
    }
   ],
   "source": [
    "# Running 5 fold cross validation to check performance on unseen data for the RF model \n",
    "scores_lr = cross_val_score(logistic_regression_model, x_data, y_data, cv=5)\n",
    "scores_lr"
   ]
  },
  {
   "cell_type": "markdown",
   "id": "55ee4ce4",
   "metadata": {},
   "source": [
    "### 4.5.2 Validation dataset"
   ]
  },
  {
   "cell_type": "code",
   "execution_count": 64,
   "id": "7ea86cff",
   "metadata": {},
   "outputs": [
    {
     "name": "stdout",
     "output_type": "stream",
     "text": [
      "Validation Accuracy : 0.82512\n"
     ]
    }
   ],
   "source": [
    "# Validation dataset\n",
    "y_predicted_sentiment = random_forest_model.predict_proba(x_validation)[:,1]\n",
    "predicted_df_valid_data_set = pd.DataFrame()\n",
    "predicted_df_valid_data_set['predicted'] = y_predicted_sentiment\n",
    "predicted_df_valid_data_set['true_value'] = y_validation\n",
    "predicted_df_valid_data_set['predicted_integer'] =  np.where(y_predicted_sentiment > 0.5,1,0)\n",
    "validation_score = random_forest_model.score(x_validation,y_validation)\n",
    "print(f\"Validation Accuracy : {validation_score}\")"
   ]
  },
  {
   "cell_type": "code",
   "execution_count": 65,
   "id": "7f594ce0",
   "metadata": {},
   "outputs": [
    {
     "data": {
      "text/html": [
       "<div>\n",
       "<style scoped>\n",
       "    .dataframe tbody tr th:only-of-type {\n",
       "        vertical-align: middle;\n",
       "    }\n",
       "\n",
       "    .dataframe tbody tr th {\n",
       "        vertical-align: top;\n",
       "    }\n",
       "\n",
       "    .dataframe thead th {\n",
       "        text-align: right;\n",
       "    }\n",
       "</style>\n",
       "<table border=\"1\" class=\"dataframe\">\n",
       "  <thead>\n",
       "    <tr style=\"text-align: right;\">\n",
       "      <th>predicted_integer</th>\n",
       "      <th>0</th>\n",
       "      <th>1</th>\n",
       "    </tr>\n",
       "    <tr>\n",
       "      <th>true_value</th>\n",
       "      <th></th>\n",
       "      <th></th>\n",
       "    </tr>\n",
       "  </thead>\n",
       "  <tbody>\n",
       "    <tr>\n",
       "      <th>0</th>\n",
       "      <td>2408</td>\n",
       "      <td>747</td>\n",
       "    </tr>\n",
       "    <tr>\n",
       "      <th>1</th>\n",
       "      <td>809</td>\n",
       "      <td>2286</td>\n",
       "    </tr>\n",
       "  </tbody>\n",
       "</table>\n",
       "</div>"
      ],
      "text/plain": [
       "predicted_integer     0     1\n",
       "true_value                   \n",
       "0                  2408   747\n",
       "1                   809  2286"
      ]
     },
     "execution_count": 65,
     "metadata": {},
     "output_type": "execute_result"
    }
   ],
   "source": [
    "pd.crosstab(predicted_df_valid_data_set.true_value, predicted_df_valid_data_set.predicted_integer)"
   ]
  },
  {
   "cell_type": "markdown",
   "id": "1c662e74",
   "metadata": {},
   "source": [
    "# 5. BERT Sentence Transformer  Embedding + Modelling\n"
   ]
  },
  {
   "cell_type": "markdown",
   "id": "0658c883",
   "metadata": {},
   "source": [
    "## 5.1 BERT - Sentence Transformer Embedding"
   ]
  },
  {
   "cell_type": "code",
   "execution_count": 67,
   "id": "04eaca7d",
   "metadata": {},
   "outputs": [],
   "source": [
    "model = SentenceTransformer('all-MiniLM-L6-v2')"
   ]
  },
  {
   "cell_type": "code",
   "execution_count": 78,
   "id": "3b698461",
   "metadata": {},
   "outputs": [],
   "source": [
    "labeled_data_bert = labeled_train_data.copy()\n",
    "labeled_data_bert = labeled_data_bert.drop(columns = ['review','tokenized_reviews','id'])"
   ]
  },
  {
   "cell_type": "code",
   "execution_count": 79,
   "id": "79ebd5bd",
   "metadata": {},
   "outputs": [
    {
     "name": "stdout",
     "output_type": "stream",
     "text": [
      "1095.9721519947052\n"
     ]
    }
   ],
   "source": [
    "sentences = labeled_train_data.review.tolist()\n",
    "embeddings = model.encode(sentences)\n",
    "embeddings_df = pd.DataFrame(embeddings)\n",
    "final_embeddings_df = pd.concat([labeled_data_bert,embeddings_df], axis = 1)\n",
    "\n",
    "column_names = list()\n",
    "for i in range(1,385):\n",
    "    column = f\"dimension_{i}\"\n",
    "    column_names.append(column)\n",
    "\n",
    "final_embeddings_df.columns = ['sentiment'] + column_names\n"
   ]
  },
  {
   "cell_type": "code",
   "execution_count": 80,
   "id": "0d7f0f70",
   "metadata": {},
   "outputs": [
    {
     "data": {
      "text/html": [
       "<div>\n",
       "<style scoped>\n",
       "    .dataframe tbody tr th:only-of-type {\n",
       "        vertical-align: middle;\n",
       "    }\n",
       "\n",
       "    .dataframe tbody tr th {\n",
       "        vertical-align: top;\n",
       "    }\n",
       "\n",
       "    .dataframe thead th {\n",
       "        text-align: right;\n",
       "    }\n",
       "</style>\n",
       "<table border=\"1\" class=\"dataframe\">\n",
       "  <thead>\n",
       "    <tr style=\"text-align: right;\">\n",
       "      <th></th>\n",
       "      <th>sentiment</th>\n",
       "      <th>dimension_1</th>\n",
       "      <th>dimension_2</th>\n",
       "      <th>dimension_3</th>\n",
       "      <th>dimension_4</th>\n",
       "      <th>dimension_5</th>\n",
       "      <th>dimension_6</th>\n",
       "      <th>dimension_7</th>\n",
       "      <th>dimension_8</th>\n",
       "      <th>dimension_9</th>\n",
       "      <th>...</th>\n",
       "      <th>dimension_375</th>\n",
       "      <th>dimension_376</th>\n",
       "      <th>dimension_377</th>\n",
       "      <th>dimension_378</th>\n",
       "      <th>dimension_379</th>\n",
       "      <th>dimension_380</th>\n",
       "      <th>dimension_381</th>\n",
       "      <th>dimension_382</th>\n",
       "      <th>dimension_383</th>\n",
       "      <th>dimension_384</th>\n",
       "    </tr>\n",
       "  </thead>\n",
       "  <tbody>\n",
       "    <tr>\n",
       "      <th>0</th>\n",
       "      <td>1</td>\n",
       "      <td>-0.039965</td>\n",
       "      <td>-0.039945</td>\n",
       "      <td>0.032377</td>\n",
       "      <td>-0.031316</td>\n",
       "      <td>0.048586</td>\n",
       "      <td>0.029957</td>\n",
       "      <td>0.025492</td>\n",
       "      <td>0.087440</td>\n",
       "      <td>0.017422</td>\n",
       "      <td>...</td>\n",
       "      <td>0.054313</td>\n",
       "      <td>0.030366</td>\n",
       "      <td>0.000056</td>\n",
       "      <td>0.110934</td>\n",
       "      <td>-0.052167</td>\n",
       "      <td>-0.070681</td>\n",
       "      <td>0.119820</td>\n",
       "      <td>-0.027335</td>\n",
       "      <td>0.015433</td>\n",
       "      <td>-0.092829</td>\n",
       "    </tr>\n",
       "    <tr>\n",
       "      <th>1</th>\n",
       "      <td>1</td>\n",
       "      <td>-0.053401</td>\n",
       "      <td>0.021124</td>\n",
       "      <td>0.024965</td>\n",
       "      <td>0.026388</td>\n",
       "      <td>-0.012323</td>\n",
       "      <td>0.088172</td>\n",
       "      <td>0.027656</td>\n",
       "      <td>0.000255</td>\n",
       "      <td>0.069894</td>\n",
       "      <td>...</td>\n",
       "      <td>0.056176</td>\n",
       "      <td>0.033124</td>\n",
       "      <td>-0.010126</td>\n",
       "      <td>0.037054</td>\n",
       "      <td>-0.079876</td>\n",
       "      <td>0.000295</td>\n",
       "      <td>0.044663</td>\n",
       "      <td>0.048541</td>\n",
       "      <td>0.051261</td>\n",
       "      <td>0.069462</td>\n",
       "    </tr>\n",
       "    <tr>\n",
       "      <th>2</th>\n",
       "      <td>0</td>\n",
       "      <td>-0.113776</td>\n",
       "      <td>-0.005263</td>\n",
       "      <td>-0.061372</td>\n",
       "      <td>0.065549</td>\n",
       "      <td>0.074117</td>\n",
       "      <td>-0.042920</td>\n",
       "      <td>0.044736</td>\n",
       "      <td>0.055372</td>\n",
       "      <td>0.055255</td>\n",
       "      <td>...</td>\n",
       "      <td>-0.043556</td>\n",
       "      <td>-0.012978</td>\n",
       "      <td>-0.039647</td>\n",
       "      <td>-0.063544</td>\n",
       "      <td>-0.018210</td>\n",
       "      <td>-0.024293</td>\n",
       "      <td>0.038012</td>\n",
       "      <td>-0.013207</td>\n",
       "      <td>0.003768</td>\n",
       "      <td>0.038215</td>\n",
       "    </tr>\n",
       "    <tr>\n",
       "      <th>3</th>\n",
       "      <td>0</td>\n",
       "      <td>-0.025800</td>\n",
       "      <td>0.024685</td>\n",
       "      <td>0.004377</td>\n",
       "      <td>-0.007853</td>\n",
       "      <td>-0.068596</td>\n",
       "      <td>0.063245</td>\n",
       "      <td>0.088030</td>\n",
       "      <td>0.056862</td>\n",
       "      <td>0.011959</td>\n",
       "      <td>...</td>\n",
       "      <td>0.000214</td>\n",
       "      <td>-0.024788</td>\n",
       "      <td>0.015227</td>\n",
       "      <td>0.127534</td>\n",
       "      <td>-0.049338</td>\n",
       "      <td>-0.001192</td>\n",
       "      <td>0.106704</td>\n",
       "      <td>0.033528</td>\n",
       "      <td>0.013115</td>\n",
       "      <td>-0.010662</td>\n",
       "    </tr>\n",
       "    <tr>\n",
       "      <th>4</th>\n",
       "      <td>1</td>\n",
       "      <td>-0.045250</td>\n",
       "      <td>0.018018</td>\n",
       "      <td>-0.049859</td>\n",
       "      <td>0.050957</td>\n",
       "      <td>0.060951</td>\n",
       "      <td>0.000819</td>\n",
       "      <td>0.087774</td>\n",
       "      <td>0.044912</td>\n",
       "      <td>0.003276</td>\n",
       "      <td>...</td>\n",
       "      <td>0.040007</td>\n",
       "      <td>-0.051709</td>\n",
       "      <td>-0.001937</td>\n",
       "      <td>0.048413</td>\n",
       "      <td>-0.011869</td>\n",
       "      <td>0.078185</td>\n",
       "      <td>0.050383</td>\n",
       "      <td>-0.097763</td>\n",
       "      <td>0.023168</td>\n",
       "      <td>-0.076539</td>\n",
       "    </tr>\n",
       "  </tbody>\n",
       "</table>\n",
       "<p>5 rows × 385 columns</p>\n",
       "</div>"
      ],
      "text/plain": [
       "   sentiment  dimension_1  dimension_2  dimension_3  dimension_4  dimension_5  \\\n",
       "0          1    -0.039965    -0.039945     0.032377    -0.031316     0.048586   \n",
       "1          1    -0.053401     0.021124     0.024965     0.026388    -0.012323   \n",
       "2          0    -0.113776    -0.005263    -0.061372     0.065549     0.074117   \n",
       "3          0    -0.025800     0.024685     0.004377    -0.007853    -0.068596   \n",
       "4          1    -0.045250     0.018018    -0.049859     0.050957     0.060951   \n",
       "\n",
       "   dimension_6  dimension_7  dimension_8  dimension_9  ...  dimension_375  \\\n",
       "0     0.029957     0.025492     0.087440     0.017422  ...       0.054313   \n",
       "1     0.088172     0.027656     0.000255     0.069894  ...       0.056176   \n",
       "2    -0.042920     0.044736     0.055372     0.055255  ...      -0.043556   \n",
       "3     0.063245     0.088030     0.056862     0.011959  ...       0.000214   \n",
       "4     0.000819     0.087774     0.044912     0.003276  ...       0.040007   \n",
       "\n",
       "   dimension_376  dimension_377  dimension_378  dimension_379  dimension_380  \\\n",
       "0       0.030366       0.000056       0.110934      -0.052167      -0.070681   \n",
       "1       0.033124      -0.010126       0.037054      -0.079876       0.000295   \n",
       "2      -0.012978      -0.039647      -0.063544      -0.018210      -0.024293   \n",
       "3      -0.024788       0.015227       0.127534      -0.049338      -0.001192   \n",
       "4      -0.051709      -0.001937       0.048413      -0.011869       0.078185   \n",
       "\n",
       "   dimension_381  dimension_382  dimension_383  dimension_384  \n",
       "0       0.119820      -0.027335       0.015433      -0.092829  \n",
       "1       0.044663       0.048541       0.051261       0.069462  \n",
       "2       0.038012      -0.013207       0.003768       0.038215  \n",
       "3       0.106704       0.033528       0.013115      -0.010662  \n",
       "4       0.050383      -0.097763       0.023168      -0.076539  \n",
       "\n",
       "[5 rows x 385 columns]"
      ]
     },
     "execution_count": 80,
     "metadata": {},
     "output_type": "execute_result"
    }
   ],
   "source": [
    "final_embeddings_df.head()"
   ]
  },
  {
   "cell_type": "code",
   "execution_count": 81,
   "id": "0f6d3ccf",
   "metadata": {},
   "outputs": [],
   "source": [
    "x_data_bert = final_embeddings_df.drop(columns = 'sentiment')\n",
    "y_data_bert = final_embeddings_df['sentiment']\n",
    "x_train_bert, x_validation_bert, y_train_bert, y_validation_bert = train_test_split(x_data_bert,y_data_bert)"
   ]
  },
  {
   "cell_type": "markdown",
   "id": "b0047677",
   "metadata": {},
   "source": [
    "## 5.2 Model Creation"
   ]
  },
  {
   "cell_type": "code",
   "execution_count": 85,
   "id": "e0c1031c",
   "metadata": {},
   "outputs": [
    {
     "name": "stdout",
     "output_type": "stream",
     "text": [
      "RF Done\n",
      "LR Done\n"
     ]
    }
   ],
   "source": [
    "# Initialize a Random Forest Model\n",
    "random_forest_model_bert = RandomForestClassifier(n_estimators = 500)\n",
    "\n",
    "# Initialize a Logistic Regression\n",
    "\n",
    "logistic_regression_model_bert = LogisticRegression(max_iter=1000)\n",
    "\n",
    "# Fitting the models with the training dataset\n",
    "random_forest_model_bert.fit(x_data_bert,y_data_bert)\n",
    "print('RF Done')\n",
    "\n",
    "logistic_regression_model_bert.fit(x_data_bert,y_data_bert)\n",
    "print('LR Done')"
   ]
  },
  {
   "cell_type": "code",
   "execution_count": 88,
   "id": "dd2038cb",
   "metadata": {},
   "outputs": [
    {
     "data": {
      "text/plain": [
       "1.0"
      ]
     },
     "execution_count": 88,
     "metadata": {},
     "output_type": "execute_result"
    }
   ],
   "source": [
    "random_forest_model_bert.score(x_data_bert,y_data_bert)"
   ]
  },
  {
   "cell_type": "markdown",
   "id": "763428a4",
   "metadata": {},
   "source": [
    "Similar to above, perfect accuracy, meaning overfitting most likely."
   ]
  },
  {
   "cell_type": "code",
   "execution_count": 89,
   "id": "1019c2df",
   "metadata": {},
   "outputs": [
    {
     "data": {
      "text/plain": [
       "0.81952"
      ]
     },
     "execution_count": 89,
     "metadata": {},
     "output_type": "execute_result"
    }
   ],
   "source": [
    "logistic_regression_model_bert.score(x_data_bert,y_data_bert)"
   ]
  },
  {
   "cell_type": "markdown",
   "id": "185aafc5",
   "metadata": {},
   "source": [
    "### 5.2.1 K-Fold Cross Validation"
   ]
  },
  {
   "cell_type": "markdown",
   "id": "0589661b",
   "metadata": {},
   "source": [
    "#### 5.2.1.1 K-Fold Random Forest"
   ]
  },
  {
   "cell_type": "code",
   "execution_count": null,
   "id": "4458c2ff",
   "metadata": {},
   "outputs": [],
   "source": [
    "# Running 5 fold cross validation to check performance on unseen data. \n",
    "scores = cross_val_score(random_forest_bert, x_data_bert, y_data_bert, cv=5)\n",
    "scores"
   ]
  },
  {
   "cell_type": "code",
   "execution_count": 319,
   "id": "67c3a550",
   "metadata": {},
   "outputs": [
    {
     "data": {
      "text/plain": [
       "'Mean Accuracy Score 0.77904, Standard Deviation 0.0034857423886454843'"
      ]
     },
     "execution_count": 319,
     "metadata": {},
     "output_type": "execute_result"
    }
   ],
   "source": [
    "f\"Mean Accuracy Score {scores.mean()}, Standard Deviation {scores.std()}\""
   ]
  },
  {
   "cell_type": "markdown",
   "id": "9cbb85a9",
   "metadata": {},
   "source": [
    "#### 5.2.1.2 K-Fold Logistic Regression"
   ]
  },
  {
   "cell_type": "code",
   "execution_count": 90,
   "id": "c3251fc8",
   "metadata": {},
   "outputs": [
    {
     "name": "stdout",
     "output_type": "stream",
     "text": [
      "6.724521160125732\n"
     ]
    },
    {
     "data": {
      "text/plain": [
       "array([0.8104, 0.8136, 0.82  , 0.8112, 0.8096, 0.8204, 0.8152, 0.8212,\n",
       "       0.804 , 0.8096])"
      ]
     },
     "execution_count": 90,
     "metadata": {},
     "output_type": "execute_result"
    }
   ],
   "source": [
    "# Running 5 fold cross validation to check performance on unseen data. \n",
    "scores = cross_val_score(logistic_regression_model_bert, x_data_bert, y_data_bert, cv=10)\n",
    "scores"
   ]
  },
  {
   "cell_type": "markdown",
   "id": "9a2245f1",
   "metadata": {},
   "source": [
    "## 5.3 Hyperparameter Tuning"
   ]
  },
  {
   "cell_type": "code",
   "execution_count": 104,
   "id": "58c7336f",
   "metadata": {},
   "outputs": [],
   "source": [
    "max_iter = range(1000, 4000)\n",
    "solver = ['lbfgs', 'newton-cg', 'liblinear']\n",
    "warm_start = [True, False]\n",
    "C = np.arange(0, 1, 0.01)\n",
    "random_grid ={\n",
    "    'max_iter' : max_iter,\n",
    "    'warm_start' : warm_start,\n",
    "    'solver' : solver,\n",
    "    'C' : C,\n",
    "}\n",
    "\n",
    "logistic_regression_bert_hyperparameter = RandomizedSearchCV(estimator = logistic_regression_model_bert, param_distributions = random_grid, n_iter = 10 ,cv = 10, random_state=0)\n",
    "logistic_regression_bert_hyperparameter = logistic_regression_bert_hyperparameter.fit(x_data_bert,y_data_bert)"
   ]
  },
  {
   "cell_type": "code",
   "execution_count": 105,
   "id": "f38382f8",
   "metadata": {},
   "outputs": [
    {
     "data": {
      "text/plain": [
       "{'warm_start': False, 'solver': 'lbfgs', 'max_iter': 1526, 'C': 0.92}"
      ]
     },
     "execution_count": 105,
     "metadata": {},
     "output_type": "execute_result"
    }
   ],
   "source": [
    "logistic_regression_bert_hyperparameter.best_params_"
   ]
  },
  {
   "cell_type": "code",
   "execution_count": 106,
   "id": "d1a32080",
   "metadata": {},
   "outputs": [
    {
     "data": {
      "text/html": [
       "<style>#sk-container-id-2 {color: black;background-color: white;}#sk-container-id-2 pre{padding: 0;}#sk-container-id-2 div.sk-toggleable {background-color: white;}#sk-container-id-2 label.sk-toggleable__label {cursor: pointer;display: block;width: 100%;margin-bottom: 0;padding: 0.3em;box-sizing: border-box;text-align: center;}#sk-container-id-2 label.sk-toggleable__label-arrow:before {content: \"▸\";float: left;margin-right: 0.25em;color: #696969;}#sk-container-id-2 label.sk-toggleable__label-arrow:hover:before {color: black;}#sk-container-id-2 div.sk-estimator:hover label.sk-toggleable__label-arrow:before {color: black;}#sk-container-id-2 div.sk-toggleable__content {max-height: 0;max-width: 0;overflow: hidden;text-align: left;background-color: #f0f8ff;}#sk-container-id-2 div.sk-toggleable__content pre {margin: 0.2em;color: black;border-radius: 0.25em;background-color: #f0f8ff;}#sk-container-id-2 input.sk-toggleable__control:checked~div.sk-toggleable__content {max-height: 200px;max-width: 100%;overflow: auto;}#sk-container-id-2 input.sk-toggleable__control:checked~label.sk-toggleable__label-arrow:before {content: \"▾\";}#sk-container-id-2 div.sk-estimator input.sk-toggleable__control:checked~label.sk-toggleable__label {background-color: #d4ebff;}#sk-container-id-2 div.sk-label input.sk-toggleable__control:checked~label.sk-toggleable__label {background-color: #d4ebff;}#sk-container-id-2 input.sk-hidden--visually {border: 0;clip: rect(1px 1px 1px 1px);clip: rect(1px, 1px, 1px, 1px);height: 1px;margin: -1px;overflow: hidden;padding: 0;position: absolute;width: 1px;}#sk-container-id-2 div.sk-estimator {font-family: monospace;background-color: #f0f8ff;border: 1px dotted black;border-radius: 0.25em;box-sizing: border-box;margin-bottom: 0.5em;}#sk-container-id-2 div.sk-estimator:hover {background-color: #d4ebff;}#sk-container-id-2 div.sk-parallel-item::after {content: \"\";width: 100%;border-bottom: 1px solid gray;flex-grow: 1;}#sk-container-id-2 div.sk-label:hover label.sk-toggleable__label {background-color: #d4ebff;}#sk-container-id-2 div.sk-serial::before {content: \"\";position: absolute;border-left: 1px solid gray;box-sizing: border-box;top: 0;bottom: 0;left: 50%;z-index: 0;}#sk-container-id-2 div.sk-serial {display: flex;flex-direction: column;align-items: center;background-color: white;padding-right: 0.2em;padding-left: 0.2em;position: relative;}#sk-container-id-2 div.sk-item {position: relative;z-index: 1;}#sk-container-id-2 div.sk-parallel {display: flex;align-items: stretch;justify-content: center;background-color: white;position: relative;}#sk-container-id-2 div.sk-item::before, #sk-container-id-2 div.sk-parallel-item::before {content: \"\";position: absolute;border-left: 1px solid gray;box-sizing: border-box;top: 0;bottom: 0;left: 50%;z-index: -1;}#sk-container-id-2 div.sk-parallel-item {display: flex;flex-direction: column;z-index: 1;position: relative;background-color: white;}#sk-container-id-2 div.sk-parallel-item:first-child::after {align-self: flex-end;width: 50%;}#sk-container-id-2 div.sk-parallel-item:last-child::after {align-self: flex-start;width: 50%;}#sk-container-id-2 div.sk-parallel-item:only-child::after {width: 0;}#sk-container-id-2 div.sk-dashed-wrapped {border: 1px dashed gray;margin: 0 0.4em 0.5em 0.4em;box-sizing: border-box;padding-bottom: 0.4em;background-color: white;}#sk-container-id-2 div.sk-label label {font-family: monospace;font-weight: bold;display: inline-block;line-height: 1.2em;}#sk-container-id-2 div.sk-label-container {text-align: center;}#sk-container-id-2 div.sk-container {/* jupyter's `normalize.less` sets `[hidden] { display: none; }` but bootstrap.min.css set `[hidden] { display: none !important; }` so we also need the `!important` here to be able to override the default hidden behavior on the sphinx rendered scikit-learn.org. See: https://github.com/scikit-learn/scikit-learn/issues/21755 */display: inline-block !important;position: relative;}#sk-container-id-2 div.sk-text-repr-fallback {display: none;}</style><div id=\"sk-container-id-2\" class=\"sk-top-container\"><div class=\"sk-text-repr-fallback\"><pre>LogisticRegression(C=0.8, max_iter=1565, warm_start=&#x27;False&#x27;)</pre><b>In a Jupyter environment, please rerun this cell to show the HTML representation or trust the notebook. <br />On GitHub, the HTML representation is unable to render, please try loading this page with nbviewer.org.</b></div><div class=\"sk-container\" hidden><div class=\"sk-item\"><div class=\"sk-estimator sk-toggleable\"><input class=\"sk-toggleable__control sk-hidden--visually\" id=\"sk-estimator-id-2\" type=\"checkbox\" checked><label for=\"sk-estimator-id-2\" class=\"sk-toggleable__label sk-toggleable__label-arrow\">LogisticRegression</label><div class=\"sk-toggleable__content\"><pre>LogisticRegression(C=0.8, max_iter=1565, warm_start=&#x27;False&#x27;)</pre></div></div></div></div></div>"
      ],
      "text/plain": [
       "LogisticRegression(C=0.8, max_iter=1565, warm_start='False')"
      ]
     },
     "execution_count": 106,
     "metadata": {},
     "output_type": "execute_result"
    }
   ],
   "source": [
    "logistic_regression_bert_final = LogisticRegression(warm_start = 'False', solver = 'lbfgs', max_iter = 1565, C = 0.8)\n",
    "logistic_regression_bert_final.fit(x_data_bert,y_data_bert)"
   ]
  },
  {
   "cell_type": "markdown",
   "id": "52b2bba6",
   "metadata": {},
   "source": [
    "## 5.4 Cut-off Evaluation - Validation Dataset"
   ]
  },
  {
   "cell_type": "code",
   "execution_count": 149,
   "id": "07f3d84c",
   "metadata": {},
   "outputs": [],
   "source": [
    "# Training the final model on validation data to see what the optimal cut-off may be\n",
    "\n",
    "#logistic_regression_bert_validation= LogisticRegression(warm_start = 'False', solver = 'lbfgs', max_iter = 1565, C = 0.8)\n",
    "#logistic_regression_bert_validation.fit(x_train_bert,y_train_bert)\n",
    "\n",
    "predicted_prob = logistic_regression_bert_validation.predict_proba(x_validation_bert)[:,1]\n",
    "predicted_df = pd.DataFrame()\n",
    "predicted_df['predicted'] = predicted_prob\n",
    "predicted_df['true_value'] = y_validation_bert.values"
   ]
  },
  {
   "cell_type": "code",
   "execution_count": 166,
   "id": "9f8d75f0",
   "metadata": {},
   "outputs": [],
   "source": [
    "accuracy_score_arr = list()\n",
    "range_list = list(range(0,100,1))\n",
    "for i in range_list:\n",
    "    predicted_int = np.where(predicted_df['predicted'] > i/100, 1, 0 )\n",
    "    acc_score = accuracy_score(y_validation_bert.values,predicted_int)\n",
    "    accuracy_score_arr.append(acc_score)"
   ]
  },
  {
   "cell_type": "code",
   "execution_count": 168,
   "id": "1c80cff4",
   "metadata": {},
   "outputs": [
    {
     "data": {
      "text/plain": [
       "(0.81776, 52)"
      ]
     },
     "execution_count": 168,
     "metadata": {},
     "output_type": "execute_result"
    }
   ],
   "source": [
    "max(list(zip(accuracy_score_arr,range_list)))"
   ]
  },
  {
   "cell_type": "code",
   "execution_count": 185,
   "id": "8b6efc86",
   "metadata": {},
   "outputs": [],
   "source": [
    "arr_range_array = np.array(list(zip(accuracy_score_arr,range_list)))"
   ]
  },
  {
   "cell_type": "code",
   "execution_count": 207,
   "id": "251a0b12",
   "metadata": {},
   "outputs": [
    {
     "data": {
      "text/plain": [
       "(Text(0.5, 0, 'Threshold'),\n",
       " Text(0, 0.5, 'Model Score'),\n",
       " <matplotlib.legend.Legend at 0x34d272fb0>)"
      ]
     },
     "execution_count": 207,
     "metadata": {},
     "output_type": "execute_result"
    },
    {
     "data": {
      "image/png": "[encoded data removed]",
      "text/plain": [
       "<Figure size 640x480 with 1 Axes>"
      ]
     },
     "metadata": {},
     "output_type": "display_data"
    }
   ],
   "source": [
    "# Plotting Accuracy as a function of threshold \n",
    "sns.lineplot(data = arr_range_array, x = arr_range_array[:,1]/100, y = arr_range_array[:,0])\n",
    "plt.xlabel(\"Threshold\"),plt.ylabel(\"Model Score\"),plt.legend(labels = ['Accuracy'])"
   ]
  },
  {
   "cell_type": "markdown",
   "id": "97009a6e",
   "metadata": {},
   "source": [
    "# 6. Test Dataset"
   ]
  },
  {
   "cell_type": "code",
   "execution_count": 97,
   "id": "fa20d1e9",
   "metadata": {},
   "outputs": [],
   "source": [
    "test_dataset = pd.read_csv('testData.tsv', sep = '\\t')"
   ]
  },
  {
   "cell_type": "markdown",
   "id": "7b86b55a",
   "metadata": {},
   "source": [
    "## 6.1 Text Test Data Preprocessing"
   ]
  },
  {
   "cell_type": "code",
   "execution_count": 98,
   "id": "32c8cded",
   "metadata": {},
   "outputs": [],
   "source": [
    "review_array = test_dataset.review.tolist()"
   ]
  },
  {
   "cell_type": "code",
   "execution_count": 99,
   "id": "b6b478fa",
   "metadata": {},
   "outputs": [],
   "source": [
    "encoded_arrays = model.encode(review_array)"
   ]
  },
  {
   "cell_type": "code",
   "execution_count": 100,
   "id": "06dc0399",
   "metadata": {},
   "outputs": [],
   "source": [
    "dataframe_test_embeddings = pd.DataFrame(encoded_arrays)\n",
    "dataframe_test_embeddings.columns  = column_names"
   ]
  },
  {
   "cell_type": "code",
   "execution_count": 101,
   "id": "8db989a0",
   "metadata": {},
   "outputs": [
    {
     "data": {
      "text/html": [
       "<div>\n",
       "<style scoped>\n",
       "    .dataframe tbody tr th:only-of-type {\n",
       "        vertical-align: middle;\n",
       "    }\n",
       "\n",
       "    .dataframe tbody tr th {\n",
       "        vertical-align: top;\n",
       "    }\n",
       "\n",
       "    .dataframe thead th {\n",
       "        text-align: right;\n",
       "    }\n",
       "</style>\n",
       "<table border=\"1\" class=\"dataframe\">\n",
       "  <thead>\n",
       "    <tr style=\"text-align: right;\">\n",
       "      <th></th>\n",
       "      <th>dimension_1</th>\n",
       "      <th>dimension_2</th>\n",
       "      <th>dimension_3</th>\n",
       "      <th>dimension_4</th>\n",
       "      <th>dimension_5</th>\n",
       "      <th>dimension_6</th>\n",
       "      <th>dimension_7</th>\n",
       "      <th>dimension_8</th>\n",
       "      <th>dimension_9</th>\n",
       "      <th>dimension_10</th>\n",
       "      <th>...</th>\n",
       "      <th>dimension_375</th>\n",
       "      <th>dimension_376</th>\n",
       "      <th>dimension_377</th>\n",
       "      <th>dimension_378</th>\n",
       "      <th>dimension_379</th>\n",
       "      <th>dimension_380</th>\n",
       "      <th>dimension_381</th>\n",
       "      <th>dimension_382</th>\n",
       "      <th>dimension_383</th>\n",
       "      <th>dimension_384</th>\n",
       "    </tr>\n",
       "  </thead>\n",
       "  <tbody>\n",
       "    <tr>\n",
       "      <th>0</th>\n",
       "      <td>0.005808</td>\n",
       "      <td>0.024933</td>\n",
       "      <td>0.030988</td>\n",
       "      <td>0.019990</td>\n",
       "      <td>0.024613</td>\n",
       "      <td>0.105117</td>\n",
       "      <td>0.000940</td>\n",
       "      <td>-0.000569</td>\n",
       "      <td>-0.005825</td>\n",
       "      <td>-0.066817</td>\n",
       "      <td>...</td>\n",
       "      <td>-0.002409</td>\n",
       "      <td>0.019028</td>\n",
       "      <td>-0.002423</td>\n",
       "      <td>0.089243</td>\n",
       "      <td>-0.029544</td>\n",
       "      <td>-0.000265</td>\n",
       "      <td>0.135016</td>\n",
       "      <td>0.011358</td>\n",
       "      <td>0.056377</td>\n",
       "      <td>0.030624</td>\n",
       "    </tr>\n",
       "    <tr>\n",
       "      <th>1</th>\n",
       "      <td>-0.001042</td>\n",
       "      <td>-0.063958</td>\n",
       "      <td>0.092036</td>\n",
       "      <td>-0.018966</td>\n",
       "      <td>0.027719</td>\n",
       "      <td>0.040837</td>\n",
       "      <td>-0.054760</td>\n",
       "      <td>-0.011183</td>\n",
       "      <td>0.031616</td>\n",
       "      <td>-0.086453</td>\n",
       "      <td>...</td>\n",
       "      <td>0.106740</td>\n",
       "      <td>-0.011178</td>\n",
       "      <td>0.042133</td>\n",
       "      <td>0.117130</td>\n",
       "      <td>-0.052834</td>\n",
       "      <td>0.014546</td>\n",
       "      <td>0.061212</td>\n",
       "      <td>-0.004508</td>\n",
       "      <td>-0.039833</td>\n",
       "      <td>-0.043648</td>\n",
       "    </tr>\n",
       "    <tr>\n",
       "      <th>2</th>\n",
       "      <td>-0.006448</td>\n",
       "      <td>-0.016426</td>\n",
       "      <td>0.096581</td>\n",
       "      <td>-0.000816</td>\n",
       "      <td>-0.015979</td>\n",
       "      <td>0.029404</td>\n",
       "      <td>0.032011</td>\n",
       "      <td>0.028757</td>\n",
       "      <td>0.020528</td>\n",
       "      <td>-0.041157</td>\n",
       "      <td>...</td>\n",
       "      <td>0.029266</td>\n",
       "      <td>-0.011709</td>\n",
       "      <td>-0.084302</td>\n",
       "      <td>0.026825</td>\n",
       "      <td>-0.081865</td>\n",
       "      <td>0.065426</td>\n",
       "      <td>0.061882</td>\n",
       "      <td>0.019927</td>\n",
       "      <td>-0.004408</td>\n",
       "      <td>0.057977</td>\n",
       "    </tr>\n",
       "    <tr>\n",
       "      <th>3</th>\n",
       "      <td>0.037065</td>\n",
       "      <td>-0.032434</td>\n",
       "      <td>0.002162</td>\n",
       "      <td>0.060671</td>\n",
       "      <td>0.054149</td>\n",
       "      <td>0.022480</td>\n",
       "      <td>-0.033056</td>\n",
       "      <td>0.075966</td>\n",
       "      <td>0.055994</td>\n",
       "      <td>-0.064029</td>\n",
       "      <td>...</td>\n",
       "      <td>0.039510</td>\n",
       "      <td>-0.059955</td>\n",
       "      <td>-0.039501</td>\n",
       "      <td>0.077020</td>\n",
       "      <td>-0.058440</td>\n",
       "      <td>-0.006432</td>\n",
       "      <td>0.043397</td>\n",
       "      <td>-0.040409</td>\n",
       "      <td>0.016318</td>\n",
       "      <td>0.012824</td>\n",
       "    </tr>\n",
       "    <tr>\n",
       "      <th>4</th>\n",
       "      <td>-0.011824</td>\n",
       "      <td>0.022300</td>\n",
       "      <td>-0.027188</td>\n",
       "      <td>-0.008771</td>\n",
       "      <td>0.089650</td>\n",
       "      <td>0.052296</td>\n",
       "      <td>-0.010083</td>\n",
       "      <td>0.023833</td>\n",
       "      <td>-0.010005</td>\n",
       "      <td>-0.056967</td>\n",
       "      <td>...</td>\n",
       "      <td>0.053532</td>\n",
       "      <td>0.004976</td>\n",
       "      <td>0.033880</td>\n",
       "      <td>0.097340</td>\n",
       "      <td>-0.025004</td>\n",
       "      <td>-0.011300</td>\n",
       "      <td>-0.019780</td>\n",
       "      <td>0.057387</td>\n",
       "      <td>-0.014426</td>\n",
       "      <td>-0.027723</td>\n",
       "    </tr>\n",
       "  </tbody>\n",
       "</table>\n",
       "<p>5 rows × 384 columns</p>\n",
       "</div>"
      ],
      "text/plain": [
       "   dimension_1  dimension_2  dimension_3  dimension_4  dimension_5  \\\n",
       "0     0.005808     0.024933     0.030988     0.019990     0.024613   \n",
       "1    -0.001042    -0.063958     0.092036    -0.018966     0.027719   \n",
       "2    -0.006448    -0.016426     0.096581    -0.000816    -0.015979   \n",
       "3     0.037065    -0.032434     0.002162     0.060671     0.054149   \n",
       "4    -0.011824     0.022300    -0.027188    -0.008771     0.089650   \n",
       "\n",
       "   dimension_6  dimension_7  dimension_8  dimension_9  dimension_10  ...  \\\n",
       "0     0.105117     0.000940    -0.000569    -0.005825     -0.066817  ...   \n",
       "1     0.040837    -0.054760    -0.011183     0.031616     -0.086453  ...   \n",
       "2     0.029404     0.032011     0.028757     0.020528     -0.041157  ...   \n",
       "3     0.022480    -0.033056     0.075966     0.055994     -0.064029  ...   \n",
       "4     0.052296    -0.010083     0.023833    -0.010005     -0.056967  ...   \n",
       "\n",
       "   dimension_375  dimension_376  dimension_377  dimension_378  dimension_379  \\\n",
       "0      -0.002409       0.019028      -0.002423       0.089243      -0.029544   \n",
       "1       0.106740      -0.011178       0.042133       0.117130      -0.052834   \n",
       "2       0.029266      -0.011709      -0.084302       0.026825      -0.081865   \n",
       "3       0.039510      -0.059955      -0.039501       0.077020      -0.058440   \n",
       "4       0.053532       0.004976       0.033880       0.097340      -0.025004   \n",
       "\n",
       "   dimension_380  dimension_381  dimension_382  dimension_383  dimension_384  \n",
       "0      -0.000265       0.135016       0.011358       0.056377       0.030624  \n",
       "1       0.014546       0.061212      -0.004508      -0.039833      -0.043648  \n",
       "2       0.065426       0.061882       0.019927      -0.004408       0.057977  \n",
       "3      -0.006432       0.043397      -0.040409       0.016318       0.012824  \n",
       "4      -0.011300      -0.019780       0.057387      -0.014426      -0.027723  \n",
       "\n",
       "[5 rows x 384 columns]"
      ]
     },
     "execution_count": 101,
     "metadata": {},
     "output_type": "execute_result"
    }
   ],
   "source": [
    "dataframe_test_embeddings.head(5)"
   ]
  },
  {
   "cell_type": "code",
   "execution_count": 169,
   "id": "6988d8bf",
   "metadata": {},
   "outputs": [],
   "source": [
    "predicted_test_sentiment = logistic_regression_bert_final.predict_proba(dataframe_test_embeddings)[:,1]\n",
    "predicted_test_sentiment_int = np.where(predicted_test_sentiment > 0.52, 1, 0)"
   ]
  },
  {
   "cell_type": "code",
   "execution_count": 170,
   "id": "382ef48b",
   "metadata": {},
   "outputs": [],
   "source": [
    "predicted_test_sentiment = pd.DataFrame()\n",
    "predicted_test_sentiment['id'] = test_dataset.id\n",
    "predicted_test_sentiment['sentiment'] = predicted_test_sentiment_int \n",
    "predicted_test_sentiment.to_csv('predicted_df.csv', index = False)"
   ]
  },
  {
   "cell_type": "code",
   "execution_count": null,
   "id": "4df8286f",
   "metadata": {},
   "outputs": [],
   "source": []
  }
 ],
 "metadata": {
  "kernelspec": {
   "display_name": "movie_reviews_env",
   "language": "python",
   "name": "movie_reviews_env"
  },
  "language_info": {
   "codemirror_mode": {
    "name": "ipython",
    "version": 3
   },
   "file_extension": ".py",
   "mimetype": "text/x-python",
   "name": "python",
   "nbconvert_exporter": "python",
   "pygments_lexer": "ipython3",
   "version": "3.10.8"
  }
 },
 "nbformat": 4,
 "nbformat_minor": 5
}
