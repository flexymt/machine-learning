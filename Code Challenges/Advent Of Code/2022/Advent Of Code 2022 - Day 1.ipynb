{
 "cells": [
  {
   "cell_type": "markdown",
   "id": "76e26c0a",
   "metadata": {},
   "source": [
    "# Advent Of Code 2022 - Day 1"
   ]
  },
  {
   "cell_type": "code",
   "execution_count": null,
   "id": "5ed9bd0a",
   "metadata": {},
   "outputs": [],
   "source": [
    "# Importing files\n",
    "lines = open('untitled.txt').read().splitlines()"
   ]
  },
  {
   "cell_type": "code",
   "execution_count": 61,
   "id": "41760fdd",
   "metadata": {},
   "outputs": [
    {
     "data": {
      "text/plain": [
       "['5104',\n",
       " '6131',\n",
       " '3553',\n",
       " '4496',\n",
       " '5847',\n",
       " '3253',\n",
       " '1828',\n",
       " '1045',\n",
       " '6369',\n",
       " '5544',\n",
       " '2756',\n",
       " '7382',\n",
       " '',\n",
       " '6879',\n",
       " '9715']"
      ]
     },
     "execution_count": 61,
     "metadata": {},
     "output_type": "execute_result"
    }
   ],
   "source": [
    "# Example data\n",
    "lines[:15]"
   ]
  },
  {
   "cell_type": "code",
   "execution_count": 40,
   "id": "5b58e81d",
   "metadata": {},
   "outputs": [],
   "source": [
    "# Looping through the array. If not a missing value, append to the sublist, otherwise append sublist to the main list.\n",
    "sublist = list()\n",
    "main_list = list()\n",
    "for i in lines:\n",
    "    if i != '':\n",
    "        i = int(i)\n",
    "        sublist.append(i)\n",
    "    else:\n",
    "        main_list.append(sublist)\n",
    "        sublist = list()"
   ]
  },
  {
   "cell_type": "code",
   "execution_count": 62,
   "id": "98c63e55",
   "metadata": {},
   "outputs": [
    {
     "data": {
      "text/plain": [
       "71502"
      ]
     },
     "execution_count": 62,
     "metadata": {},
     "output_type": "execute_result"
    }
   ],
   "source": [
    "# Question 1\n",
    "sums = [sum(x) for x in main_list]\n",
    "max_sum = max(sums)\n",
    "max_sum"
   ]
  },
  {
   "cell_type": "code",
   "execution_count": 69,
   "id": "d52923e2",
   "metadata": {},
   "outputs": [
    {
     "data": {
      "text/plain": [
       "208191"
      ]
     },
     "execution_count": 69,
     "metadata": {},
     "output_type": "execute_result"
    }
   ],
   "source": [
    "# Question 2\n",
    "sums.sort(reverse = True)\n",
    "sum(sums[:3])"
   ]
  }
 ],
 "metadata": {
  "kernelspec": {
   "display_name": "Python 3 (ipykernel)",
   "language": "python",
   "name": "python3"
  },
  "language_info": {
   "codemirror_mode": {
    "name": "ipython",
    "version": 3
   },
   "file_extension": ".py",
   "mimetype": "text/x-python",
   "name": "python",
   "nbconvert_exporter": "python",
   "pygments_lexer": "ipython3",
   "version": "3.10.8"
  }
 },
 "nbformat": 4,
 "nbformat_minor": 5
}
