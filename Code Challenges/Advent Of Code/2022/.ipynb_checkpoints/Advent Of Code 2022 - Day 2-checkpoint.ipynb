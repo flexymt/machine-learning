{
 "cells": [
  {
   "cell_type": "markdown",
   "id": "c6a216de",
   "metadata": {},
   "source": [
    "# Advent Of Code 2022 - Day 2"
   ]
  },
  {
   "cell_type": "code",
   "execution_count": null,
   "id": "3b300388",
   "metadata": {},
   "outputs": [],
   "source": [
    "import itertools"
   ]
  },
  {
   "cell_type": "code",
   "execution_count": null,
   "id": "95825d99",
   "metadata": {},
   "outputs": [],
   "source": [
    "# Importing data\n",
    "lines = open('untitled.txt').read().splitlines()"
   ]
  },
  {
   "cell_type": "code",
   "execution_count": 90,
   "id": "5f8f9b63",
   "metadata": {},
   "outputs": [],
   "source": [
    "# Creating separate arrays.\n",
    "opponents_choice = [x[0] for x in lines]\n",
    "our_choice = [x[2] for x in lines]"
   ]
  },
  {
   "cell_type": "code",
   "execution_count": 92,
   "id": "b71113de",
   "metadata": {},
   "outputs": [],
   "source": [
    "# Creating a dict for the scores\n",
    "\n",
    "# Opponent\n",
    "# A = Rock\n",
    "# B = Paper\n",
    "# C = Scissors\n",
    "\n",
    "score_dict = {}\n",
    "score_dict['X'] = 1 #Rock\n",
    "score_dict['Y'] = 2 #Paper\n",
    "score_dict['Z'] = 3 #Scissors\n",
    "\n",
    "\n",
    "\n",
    "# (0 if you lost, 3 if the round was a draw, and 6 if you won)."
   ]
  },
  {
   "cell_type": "markdown",
   "id": "8f098661",
   "metadata": {},
   "source": [
    "## Part 1"
   ]
  },
  {
   "cell_type": "code",
   "execution_count": 113,
   "id": "3bb7ed7d",
   "metadata": {},
   "outputs": [
    {
     "data": {
      "text/plain": [
       "{('X', 'X'),\n",
       " ('X', 'Y'),\n",
       " ('X', 'Z'),\n",
       " ('Y', 'X'),\n",
       " ('Y', 'Y'),\n",
       " ('Y', 'Z'),\n",
       " ('Z', 'X'),\n",
       " ('Z', 'Y'),\n",
       " ('Z', 'Z')}"
      ]
     },
     "execution_count": 113,
     "metadata": {},
     "output_type": "execute_result"
    }
   ],
   "source": [
    "# Unique combinations\n",
    "set(list(itertools.product(opponent_choice,our_choice)))"
   ]
  },
  {
   "cell_type": "code",
   "execution_count": 97,
   "id": "3383e0ee",
   "metadata": {},
   "outputs": [],
   "source": [
    "socre_array = list()\n",
    "for i in range(0,len(our_choice)):\n",
    "    our_hand = our_choice[i]\n",
    "    opponents_hand = opponents_choice[i]\n",
    "    \n",
    "    if opponents_hand == 'A' and our_hand == 'X':\n",
    "        score = score_dict[our_hand] + 3\n",
    "        \n",
    "    if opponents_hand == 'B' and our_hand == 'X':\n",
    "        score = score_dict[our_hand] + 0\n",
    "        \n",
    "    if opponents_hand == 'C' and our_hand == 'X':\n",
    "        score = score_dict[our_hand] + 6\n",
    "    \n",
    "    if opponents_hand == 'A' and our_hand == 'Y':\n",
    "        score = score_dict[our_hand] + 6\n",
    "        \n",
    "    if opponents_hand == 'B' and our_hand == 'Y':\n",
    "        score = score_dict[our_hand] + 3\n",
    "        \n",
    "    if opponents_hand == 'C' and our_hand == 'Y':\n",
    "        score = score_dict[our_hand] + 0\n",
    "        \n",
    "    if opponents_hand == 'A' and our_hand == 'Z':\n",
    "        score = score_dict[our_hand] + 0\n",
    "        \n",
    "    if opponents_hand == 'B' and our_hand == 'Z':\n",
    "        score = score_dict[our_hand] + 6\n",
    "        \n",
    "    if opponents_hand == 'C' and our_hand == 'Z':\n",
    "        score = score_dict[our_hand] + 3\n",
    "        \n",
    "    socre_array.append(score)\n",
    "        \n",
    "        \n",
    "        \n",
    "        \n",
    "        \n",
    "        \n",
    "    \n",
    "    \n",
    "    "
   ]
  },
  {
   "cell_type": "code",
   "execution_count": 102,
   "id": "e3ab841a",
   "metadata": {},
   "outputs": [
    {
     "data": {
      "text/plain": [
       "17189"
      ]
     },
     "execution_count": 102,
     "metadata": {},
     "output_type": "execute_result"
    }
   ],
   "source": [
    "sum(socre_array)"
   ]
  },
  {
   "cell_type": "markdown",
   "id": "02d88870",
   "metadata": {},
   "source": [
    "## Part 2"
   ]
  },
  {
   "cell_type": "code",
   "execution_count": 109,
   "id": "9f1e91c2",
   "metadata": {},
   "outputs": [],
   "source": [
    "score_pt2 = list()\n",
    "for i in range(0,len(our_choice)):\n",
    "    our_hand = our_choice[i]\n",
    "    opponents_hand = opponents_choice[i]\n",
    "    # Lose\n",
    "    if our_hand == 'X':\n",
    "        if opponents_hand == 'A':\n",
    "            our_final_hand = 'Z'\n",
    "        elif opponents_hand == 'B':\n",
    "            our_final_hand = 'X'\n",
    "        else:\n",
    "            our_final_hand = 'Y'\n",
    "        score = score_dict[our_final_hand] + 0\n",
    "    # Draw\n",
    "    if our_hand == 'Y':\n",
    "        if opponents_hand == 'A':\n",
    "            our_final_hand = 'X'\n",
    "        elif opponents_hand == 'B':\n",
    "            our_final_hand = 'Y'\n",
    "        else:\n",
    "            our_final_hand = 'Z'\n",
    "        score = score_dict[our_final_hand] + 3\n",
    "    # Win\n",
    "    if our_hand == 'Z':\n",
    "        if opponents_hand == 'A':\n",
    "            our_final_hand = 'Y'\n",
    "        elif opponents_hand == 'B':\n",
    "            our_final_hand = 'Z'\n",
    "        else:\n",
    "            our_final_hand = 'X'\n",
    "        score = score_dict[our_final_hand] + 6\n",
    "    score_pt2.append(score)\n",
    "        \n",
    "total_score = sum(score_pt2)"
   ]
  },
  {
   "cell_type": "code",
   "execution_count": 110,
   "id": "1e8fabe2",
   "metadata": {},
   "outputs": [
    {
     "data": {
      "text/plain": [
       "13490"
      ]
     },
     "execution_count": 110,
     "metadata": {},
     "output_type": "execute_result"
    }
   ],
   "source": [
    "total_score"
   ]
  }
 ],
 "metadata": {
  "kernelspec": {
   "display_name": "Python 3 (ipykernel)",
   "language": "python",
   "name": "python3"
  },
  "language_info": {
   "codemirror_mode": {
    "name": "ipython",
    "version": 3
   },
   "file_extension": ".py",
   "mimetype": "text/x-python",
   "name": "python",
   "nbconvert_exporter": "python",
   "pygments_lexer": "ipython3",
   "version": "3.10.8"
  }
 },
 "nbformat": 4,
 "nbformat_minor": 5
}
